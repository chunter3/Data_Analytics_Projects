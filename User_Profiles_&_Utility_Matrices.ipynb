{
  "nbformat": 4,
  "nbformat_minor": 0,
  "metadata": {
    "colab": {
      "name": "User Profiles & Utility Matrices",
      "provenance": [],
      "collapsed_sections": [],
      "authorship_tag": "ABX9TyNshpxnKeDAylwZNNHc+tFC",
      "include_colab_link": true
    },
    "kernelspec": {
      "name": "python3",
      "display_name": "Python 3"
    },
    "language_info": {
      "name": "python"
    }
  },
  "cells": [
    {
      "cell_type": "markdown",
      "metadata": {
        "id": "view-in-github",
        "colab_type": "text"
      },
      "source": [
        "<a href=\"https://colab.research.google.com/github/chunter3/Data_Analytics_Projects/blob/master/User_Profiles_%26_Utility_Matrices.ipynb\" target=\"_parent\"><img src=\"https://colab.research.google.com/assets/colab-badge.svg\" alt=\"Open In Colab\"/></a>"
      ]
    },
    {
      "cell_type": "code",
      "metadata": {
        "id": "OR9joe-RWbSo"
      },
      "source": [
        "import numpy as np\n",
        "import pandas as pd\n",
        "from sklearn.metrics.pairwise import cosine_similarity, cosine_distances"
      ],
      "execution_count": null,
      "outputs": []
    },
    {
      "cell_type": "code",
      "metadata": {
        "id": "aoUD_XewWepu"
      },
      "source": [
        "# Problem 1 (Start)"
      ],
      "execution_count": null,
      "outputs": []
    },
    {
      "cell_type": "code",
      "metadata": {
        "colab": {
          "base_uri": "https://localhost:8080/"
        },
        "id": "IHlkFDSDWgh9",
        "outputId": "fdf92d28-c93a-4758-f836-0adb41e6b62b"
      },
      "source": [
        "# Unzipping the ml-100k.zip file\n",
        "\n",
        "!unzip ml-100k.zip "
      ],
      "execution_count": null,
      "outputs": [
        {
          "output_type": "stream",
          "text": [
            "Archive:  ml-100k.zip\n",
            "   creating: ml-100k/\n",
            "  inflating: ml-100k/allbut.pl       \n",
            "  inflating: ml-100k/mku.sh          \n",
            "  inflating: ml-100k/README          \n",
            "  inflating: ml-100k/u.data          \n",
            "  inflating: ml-100k/u.genre         \n",
            "  inflating: ml-100k/u.info          \n",
            "  inflating: ml-100k/u.item          \n",
            "  inflating: ml-100k/u.occupation    \n",
            "  inflating: ml-100k/u.user          \n",
            "  inflating: ml-100k/u1.base         \n",
            "  inflating: ml-100k/u1.test         \n",
            "  inflating: ml-100k/u2.base         \n",
            "  inflating: ml-100k/u2.test         \n",
            "  inflating: ml-100k/u3.base         \n",
            "  inflating: ml-100k/u3.test         \n",
            "  inflating: ml-100k/u4.base         \n",
            "  inflating: ml-100k/u4.test         \n",
            "  inflating: ml-100k/u5.base         \n",
            "  inflating: ml-100k/u5.test         \n",
            "  inflating: ml-100k/ua.base         \n",
            "  inflating: ml-100k/ua.test         \n",
            "  inflating: ml-100k/ub.base         \n",
            "  inflating: ml-100k/ub.test         \n"
          ],
          "name": "stdout"
        }
      ]
    },
    {
      "cell_type": "code",
      "metadata": {
        "colab": {
          "base_uri": "https://localhost:8080/"
        },
        "id": "e8LhcIaHXh1P",
        "outputId": "3c93a00a-d21a-469c-aeba-5facc8eb1879"
      },
      "source": [
        "# Verifying a successful unzipping of the ml-100k.zip file\n",
        "!ls"
      ],
      "execution_count": null,
      "outputs": [
        {
          "output_type": "stream",
          "text": [
            "ml-100k  ml-100k.zip  sample_data\n"
          ],
          "name": "stdout"
        }
      ]
    },
    {
      "cell_type": "code",
      "metadata": {
        "colab": {
          "base_uri": "https://localhost:8080/",
          "height": 194
        },
        "id": "6spP-ZLVnaR2",
        "outputId": "a536a91e-ad96-4b77-d6d3-9e3d78ca277b"
      },
      "source": [
        "user_cols = ['user_id', 'age', 'gender', 'occupation', 'zip_code']\n",
        "users = pd.read_csv('ml-100k/u.user', sep='|', names=user_cols, encoding='latin-1', parse_dates=True)\n",
        "users.head()"
      ],
      "execution_count": null,
      "outputs": [
        {
          "output_type": "execute_result",
          "data": {
            "text/html": [
              "<div>\n",
              "<style scoped>\n",
              "    .dataframe tbody tr th:only-of-type {\n",
              "        vertical-align: middle;\n",
              "    }\n",
              "\n",
              "    .dataframe tbody tr th {\n",
              "        vertical-align: top;\n",
              "    }\n",
              "\n",
              "    .dataframe thead th {\n",
              "        text-align: right;\n",
              "    }\n",
              "</style>\n",
              "<table border=\"1\" class=\"dataframe\">\n",
              "  <thead>\n",
              "    <tr style=\"text-align: right;\">\n",
              "      <th></th>\n",
              "      <th>user_id</th>\n",
              "      <th>age</th>\n",
              "      <th>gender</th>\n",
              "      <th>occupation</th>\n",
              "      <th>zip_code</th>\n",
              "    </tr>\n",
              "  </thead>\n",
              "  <tbody>\n",
              "    <tr>\n",
              "      <th>0</th>\n",
              "      <td>1</td>\n",
              "      <td>24</td>\n",
              "      <td>M</td>\n",
              "      <td>technician</td>\n",
              "      <td>85711</td>\n",
              "    </tr>\n",
              "    <tr>\n",
              "      <th>1</th>\n",
              "      <td>2</td>\n",
              "      <td>53</td>\n",
              "      <td>F</td>\n",
              "      <td>other</td>\n",
              "      <td>94043</td>\n",
              "    </tr>\n",
              "    <tr>\n",
              "      <th>2</th>\n",
              "      <td>3</td>\n",
              "      <td>23</td>\n",
              "      <td>M</td>\n",
              "      <td>writer</td>\n",
              "      <td>32067</td>\n",
              "    </tr>\n",
              "    <tr>\n",
              "      <th>3</th>\n",
              "      <td>4</td>\n",
              "      <td>24</td>\n",
              "      <td>M</td>\n",
              "      <td>technician</td>\n",
              "      <td>43537</td>\n",
              "    </tr>\n",
              "    <tr>\n",
              "      <th>4</th>\n",
              "      <td>5</td>\n",
              "      <td>33</td>\n",
              "      <td>F</td>\n",
              "      <td>other</td>\n",
              "      <td>15213</td>\n",
              "    </tr>\n",
              "  </tbody>\n",
              "</table>\n",
              "</div>"
            ],
            "text/plain": [
              "   user_id  age gender  occupation zip_code\n",
              "0        1   24      M  technician    85711\n",
              "1        2   53      F       other    94043\n",
              "2        3   23      M      writer    32067\n",
              "3        4   24      M  technician    43537\n",
              "4        5   33      F       other    15213"
            ]
          },
          "metadata": {
            "tags": []
          },
          "execution_count": 5
        }
      ]
    },
    {
      "cell_type": "code",
      "metadata": {
        "colab": {
          "base_uri": "https://localhost:8080/",
          "height": 194
        },
        "id": "BoKebHSjniL7",
        "outputId": "2f55aee5-f2b5-4468-c750-89194cc15cd3"
      },
      "source": [
        "rating_cols = ['user_id', 'movie_id', 'rating', 'timestamp']\n",
        "ratings = pd.read_csv('ml-100k/u.data', sep='\\t', names=rating_cols, encoding='latin-1')\n",
        "ratings.head()"
      ],
      "execution_count": null,
      "outputs": [
        {
          "output_type": "execute_result",
          "data": {
            "text/html": [
              "<div>\n",
              "<style scoped>\n",
              "    .dataframe tbody tr th:only-of-type {\n",
              "        vertical-align: middle;\n",
              "    }\n",
              "\n",
              "    .dataframe tbody tr th {\n",
              "        vertical-align: top;\n",
              "    }\n",
              "\n",
              "    .dataframe thead th {\n",
              "        text-align: right;\n",
              "    }\n",
              "</style>\n",
              "<table border=\"1\" class=\"dataframe\">\n",
              "  <thead>\n",
              "    <tr style=\"text-align: right;\">\n",
              "      <th></th>\n",
              "      <th>user_id</th>\n",
              "      <th>movie_id</th>\n",
              "      <th>rating</th>\n",
              "      <th>timestamp</th>\n",
              "    </tr>\n",
              "  </thead>\n",
              "  <tbody>\n",
              "    <tr>\n",
              "      <th>0</th>\n",
              "      <td>196</td>\n",
              "      <td>242</td>\n",
              "      <td>3</td>\n",
              "      <td>881250949</td>\n",
              "    </tr>\n",
              "    <tr>\n",
              "      <th>1</th>\n",
              "      <td>186</td>\n",
              "      <td>302</td>\n",
              "      <td>3</td>\n",
              "      <td>891717742</td>\n",
              "    </tr>\n",
              "    <tr>\n",
              "      <th>2</th>\n",
              "      <td>22</td>\n",
              "      <td>377</td>\n",
              "      <td>1</td>\n",
              "      <td>878887116</td>\n",
              "    </tr>\n",
              "    <tr>\n",
              "      <th>3</th>\n",
              "      <td>244</td>\n",
              "      <td>51</td>\n",
              "      <td>2</td>\n",
              "      <td>880606923</td>\n",
              "    </tr>\n",
              "    <tr>\n",
              "      <th>4</th>\n",
              "      <td>166</td>\n",
              "      <td>346</td>\n",
              "      <td>1</td>\n",
              "      <td>886397596</td>\n",
              "    </tr>\n",
              "  </tbody>\n",
              "</table>\n",
              "</div>"
            ],
            "text/plain": [
              "   user_id  movie_id  rating  timestamp\n",
              "0      196       242       3  881250949\n",
              "1      186       302       3  891717742\n",
              "2       22       377       1  878887116\n",
              "3      244        51       2  880606923\n",
              "4      166       346       1  886397596"
            ]
          },
          "metadata": {
            "tags": []
          },
          "execution_count": 6
        }
      ]
    },
    {
      "cell_type": "code",
      "metadata": {
        "id": "bRcpCJVJjMv4"
      },
      "source": [
        "movie_cols = ['movie_id', 'movie title', 'release date', 'video release date','IMDb URL',\n",
        "             'Unknown', 'Action', 'Adventure', 'Animation', 'Childrens',\n",
        "             'Comedy', 'Crime', 'Documentary', 'Drama', 'Fantasy',\n",
        "             'FilmNoir', 'Horror', 'Musical', 'Mystery', 'Romance',\n",
        "             'SciFi', 'Thriller', 'War', 'Western']\n",
        "movies = pd.read_csv('ml-100k/u.item', sep='|', names=movie_cols, encoding='latin-1')\n",
        "movies.head()"
      ],
      "execution_count": null,
      "outputs": []
    },
    {
      "cell_type": "code",
      "metadata": {
        "id": "L_o5XDwmBZRV"
      },
      "source": [
        "# Getting all ratings of movies watched by users 200 and 15\n",
        "user200_ratings = ratings.loc[ratings['user_id']==200,['rating','movie_id']]\n",
        "user15_ratings = ratings.loc[ratings['user_id']==15,['rating','movie_id']]"
      ],
      "execution_count": null,
      "outputs": []
    },
    {
      "cell_type": "code",
      "metadata": {
        "id": "8_QHsbzcVdGx"
      },
      "source": [
        "# Getting all movies watched by users 200 and 15\n",
        "user200_items = ratings.loc[ratings['user_id']==200,'movie_id']\n",
        "user15_items = ratings.loc[ratings['user_id']==15,'movie_id']"
      ],
      "execution_count": null,
      "outputs": []
    },
    {
      "cell_type": "code",
      "metadata": {
        "id": "T8pAV2AdcMdj"
      },
      "source": [
        "# Extracting movies and rating info from users 200 and 15 and movie 95\n",
        "user200_movies = movies.loc[movies['movie_id'].isin(user200_items)]\n",
        "user15_movies = movies.loc[movies['movie_id'].isin(user15_items)]\n",
        "user200_df = pd.merge(user200_ratings, user200_movies, on='movie_id', how='outer')\n",
        "user15_df = pd.merge(user15_ratings, user15_movies, on='movie_id', how='outer')"
      ],
      "execution_count": null,
      "outputs": []
    },
    {
      "cell_type": "code",
      "metadata": {
        "id": "uf6CTwsmud45"
      },
      "source": [
        "# Creating user profile for user 200\n",
        "user200_score = []\n",
        "for i, j in enumerate(list(movies)[:-1]):\n",
        "  movie = user200_df[user200_df[j]==1]\n",
        "  avg = movie['rating'].mean()\n",
        "  diff = movie['rating'].sub(avg)\n",
        "  score = diff.sum()/user200_df.shape[0]\n",
        "  user200_score.append(score)\n",
        "user200_profile = pd.DataFrame([user200_score], columns = list(movies)[:-1])\n",
        "user200_profile = user200_profile.drop(columns=['movie_id','movie title', 'release date', 'video release date', 'IMDb URL'])\n",
        "# Creating user profile for user 15\n",
        "user15_score = []\n",
        "for i, j in enumerate(list(movies)[:-1]):\n",
        "  movie = user15_df[user15_df[j]==1]\n",
        "  avg = movie['rating'].mean()\n",
        "  diff = movie['rating'].sub(avg)\n",
        "  score = diff.sum()/user15_df.shape[0]\n",
        "  user15_score.append(score)\n",
        "user15_profile = pd.DataFrame([user15_score], columns = list(movies)[:-1])\n",
        "user15_profile = user15_profile.drop(columns=['movie_id','movie title', 'release date', 'video release date', 'IMDb URL'])"
      ],
      "execution_count": null,
      "outputs": []
    },
    {
      "cell_type": "code",
      "metadata": {
        "colab": {
          "base_uri": "https://localhost:8080/",
          "height": 113
        },
        "id": "H3yS_SBQ5CqD",
        "outputId": "52e6ce97-0ac7-4099-bade-5db00f846b40"
      },
      "source": [
        "user200_profile"
      ],
      "execution_count": null,
      "outputs": [
        {
          "output_type": "execute_result",
          "data": {
            "text/html": [
              "<div>\n",
              "<style scoped>\n",
              "    .dataframe tbody tr th:only-of-type {\n",
              "        vertical-align: middle;\n",
              "    }\n",
              "\n",
              "    .dataframe tbody tr th {\n",
              "        vertical-align: top;\n",
              "    }\n",
              "\n",
              "    .dataframe thead th {\n",
              "        text-align: right;\n",
              "    }\n",
              "</style>\n",
              "<table border=\"1\" class=\"dataframe\">\n",
              "  <thead>\n",
              "    <tr style=\"text-align: right;\">\n",
              "      <th></th>\n",
              "      <th>Unknown</th>\n",
              "      <th>Action</th>\n",
              "      <th>Adventure</th>\n",
              "      <th>Animation</th>\n",
              "      <th>Childrens</th>\n",
              "      <th>Comedy</th>\n",
              "      <th>Crime</th>\n",
              "      <th>Documentary</th>\n",
              "      <th>Drama</th>\n",
              "      <th>Fantasy</th>\n",
              "      <th>FilmNoir</th>\n",
              "      <th>Horror</th>\n",
              "      <th>Musical</th>\n",
              "      <th>Mystery</th>\n",
              "      <th>Romance</th>\n",
              "      <th>SciFi</th>\n",
              "      <th>Thriller</th>\n",
              "      <th>War</th>\n",
              "    </tr>\n",
              "  </thead>\n",
              "  <tbody>\n",
              "    <tr>\n",
              "      <th>0</th>\n",
              "      <td>0.0</td>\n",
              "      <td>-6.990293e-17</td>\n",
              "      <td>1.644775e-17</td>\n",
              "      <td>0.0</td>\n",
              "      <td>-3.289550e-17</td>\n",
              "      <td>-3.289550e-17</td>\n",
              "      <td>-8.223874e-18</td>\n",
              "      <td>0.0</td>\n",
              "      <td>-9.868649e-17</td>\n",
              "      <td>1.644775e-17</td>\n",
              "      <td>0.0</td>\n",
              "      <td>-1.644775e-17</td>\n",
              "      <td>-4.111937e-18</td>\n",
              "      <td>0.0</td>\n",
              "      <td>6.579099e-17</td>\n",
              "      <td>4.523131e-17</td>\n",
              "      <td>9.868649e-17</td>\n",
              "      <td>1.233581e-17</td>\n",
              "    </tr>\n",
              "  </tbody>\n",
              "</table>\n",
              "</div>"
            ],
            "text/plain": [
              "   Unknown        Action  ...      Thriller           War\n",
              "0      0.0 -6.990293e-17  ...  9.868649e-17  1.233581e-17\n",
              "\n",
              "[1 rows x 18 columns]"
            ]
          },
          "metadata": {
            "tags": []
          },
          "execution_count": 18
        }
      ]
    },
    {
      "cell_type": "code",
      "metadata": {
        "colab": {
          "base_uri": "https://localhost:8080/",
          "height": 113
        },
        "id": "l0_pjGS2_ehf",
        "outputId": "31420a19-cbad-42bd-a5fb-4904b8b94bfc"
      },
      "source": [
        "user15_profile"
      ],
      "execution_count": null,
      "outputs": [
        {
          "output_type": "execute_result",
          "data": {
            "text/html": [
              "<div>\n",
              "<style scoped>\n",
              "    .dataframe tbody tr th:only-of-type {\n",
              "        vertical-align: middle;\n",
              "    }\n",
              "\n",
              "    .dataframe tbody tr th {\n",
              "        vertical-align: top;\n",
              "    }\n",
              "\n",
              "    .dataframe thead th {\n",
              "        text-align: right;\n",
              "    }\n",
              "</style>\n",
              "<table border=\"1\" class=\"dataframe\">\n",
              "  <thead>\n",
              "    <tr style=\"text-align: right;\">\n",
              "      <th></th>\n",
              "      <th>Unknown</th>\n",
              "      <th>Action</th>\n",
              "      <th>Adventure</th>\n",
              "      <th>Animation</th>\n",
              "      <th>Childrens</th>\n",
              "      <th>Comedy</th>\n",
              "      <th>Crime</th>\n",
              "      <th>Documentary</th>\n",
              "      <th>Drama</th>\n",
              "      <th>Fantasy</th>\n",
              "      <th>FilmNoir</th>\n",
              "      <th>Horror</th>\n",
              "      <th>Musical</th>\n",
              "      <th>Mystery</th>\n",
              "      <th>Romance</th>\n",
              "      <th>SciFi</th>\n",
              "      <th>Thriller</th>\n",
              "      <th>War</th>\n",
              "    </tr>\n",
              "  </thead>\n",
              "  <tbody>\n",
              "    <tr>\n",
              "      <th>0</th>\n",
              "      <td>0.0</td>\n",
              "      <td>3.416071e-17</td>\n",
              "      <td>0.0</td>\n",
              "      <td>0.0</td>\n",
              "      <td>-4.270089e-18</td>\n",
              "      <td>5.978124e-17</td>\n",
              "      <td>0.0</td>\n",
              "      <td>0.0</td>\n",
              "      <td>0.0</td>\n",
              "      <td>-4.270089e-18</td>\n",
              "      <td>0.0</td>\n",
              "      <td>0.0</td>\n",
              "      <td>0.0</td>\n",
              "      <td>1.281027e-17</td>\n",
              "      <td>1.281027e-17</td>\n",
              "      <td>1.708035e-17</td>\n",
              "      <td>2.562053e-17</td>\n",
              "      <td>8.540177e-18</td>\n",
              "    </tr>\n",
              "  </tbody>\n",
              "</table>\n",
              "</div>"
            ],
            "text/plain": [
              "   Unknown        Action  Adventure  ...         SciFi      Thriller           War\n",
              "0      0.0  3.416071e-17        0.0  ...  1.708035e-17  2.562053e-17  8.540177e-18\n",
              "\n",
              "[1 rows x 18 columns]"
            ]
          },
          "metadata": {
            "tags": []
          },
          "execution_count": 13
        }
      ]
    },
    {
      "cell_type": "code",
      "metadata": {
        "colab": {
          "base_uri": "https://localhost:8080/"
        },
        "id": "7ccKNtU-gNwq",
        "outputId": "b3e0b21a-d76a-42c5-8ba4-d108464eea2f"
      },
      "source": [
        "# Cosine similarity and distance between user 200 and movie 95\n",
        "movie_95 = movies[movies['movie_id']==95]\n",
        "movie_95 = movie_95.drop(columns=['movie_id','movie title', 'release date', 'video release date', 'IMDb URL','Western'])\n",
        "user200_cossim = cosine_similarity(user200_profile, movie_95)\n",
        "user15_cossim = cosine_similarity(user15_profile, movie_95)\n",
        "user200_cosdist = cosine_distances(user200_profile, movie_95)\n",
        "user15_cosdist = cosine_distances(user15_profile, movie_95)\n",
        "print(\"Similarity(User 200, movie 95) =\", user200_cossim,\"\\n\")\n",
        "print(\"Similarity(User 15, movie 95) =\", user15_cossim, \"\\n\")\n",
        "print(\"Distance(User 200, movie 95) =\", user200_cosdist,\"\\n\")\n",
        "print(\"Distance(User 15, movie 95) =\", user15_cosdist)"
      ],
      "execution_count": null,
      "outputs": [
        {
          "output_type": "stream",
          "text": [
            "Similarity(User 200, movie 95) = [[-0.18968678]] \n",
            "\n",
            "Similarity(User 15, movie 95) = [[0.35460407]] \n",
            "\n",
            "Distance(User 200, movie 95) = [[1.18968678]] \n",
            "\n",
            "Distance(User 15, movie 95) = [[0.64539593]]\n"
          ],
          "name": "stdout"
        }
      ]
    },
    {
      "cell_type": "code",
      "metadata": {
        "id": "LkAlp4SGqNKV"
      },
      "source": [
        "# Problem 1 (end)"
      ],
      "execution_count": null,
      "outputs": []
    },
    {
      "cell_type": "code",
      "metadata": {
        "id": "cPxNFH9KqPPL"
      },
      "source": [
        "# Problem 2 (start)"
      ],
      "execution_count": null,
      "outputs": []
    },
    {
      "cell_type": "code",
      "metadata": {
        "id": "vnntMjzE3YUJ"
      },
      "source": [
        "# Converting the ratings data into a centered utility matrix representation\n",
        "util_matrix = ratings.pivot(index='user_id', columns='movie_id', values='rating')\n",
        "user_means = util_matrix.mean(axis=1)\n",
        "util_matrix_centered = util_matrix - user_means\n",
        "util_matrix_centered = util_matrix_centered.where((pd.notnull(util_matrix_centered)),0)\n",
        "util_matrix_centered.head()"
      ],
      "execution_count": null,
      "outputs": []
    },
    {
      "cell_type": "code",
      "metadata": {
        "colab": {
          "base_uri": "https://localhost:8080/"
        },
        "id": "Ngyt0SdW8P2G",
        "outputId": "4da3182b-f854-40af-dcca-8792986ef101"
      },
      "source": [
        "user1 = util_matrix_centered.iloc[:1,]\n",
        "otherUsers = utility_centered.iloc[1:,]\n",
        "similUsers = []\n",
        "for i in range (942):\n",
        "  userx =  otherUsers.iloc[i:i+1]\n",
        "  cossim = cosine_similarity(user1,userx)\n",
        "  if(cossim >= 0.25):\n",
        "    similUsers.append(i + 2)\n",
        "    print(\"Similarity(user1,user\",i+2,\"):\", cossim,\"\\n\")\n",
        "similUsers"
      ],
      "execution_count": null,
      "outputs": [
        {
          "output_type": "stream",
          "text": [
            "Similarity(user1,user 44 ): [[0.2529544]] \n",
            "\n",
            "Similarity(user1,user 267 ): [[0.26476147]] \n",
            "\n",
            "Similarity(user1,user 276 ): [[0.26815054]] \n",
            "\n",
            "Similarity(user1,user 457 ): [[0.26233704]] \n",
            "\n",
            "Similarity(user1,user 592 ): [[0.27840172]] \n",
            "\n",
            "Similarity(user1,user 606 ): [[0.26084701]] \n",
            "\n",
            "Similarity(user1,user 643 ): [[0.2640026]] \n",
            "\n",
            "Similarity(user1,user 661 ): [[0.2505469]] \n",
            "\n",
            "Similarity(user1,user 738 ): [[0.29148679]] \n",
            "\n",
            "Similarity(user1,user 757 ): [[0.26236785]] \n",
            "\n",
            "Similarity(user1,user 916 ): [[0.25562438]] \n",
            "\n"
          ],
          "name": "stdout"
        },
        {
          "output_type": "execute_result",
          "data": {
            "text/plain": [
              "[44, 267, 276, 457, 592, 606, 643, 661, 738, 757, 916]"
            ]
          },
          "metadata": {
            "tags": []
          },
          "execution_count": 88
        }
      ]
    },
    {
      "cell_type": "code",
      "metadata": {
        "colab": {
          "base_uri": "https://localhost:8080/"
        },
        "id": "CVgRKQVyRuAx",
        "outputId": "960cfc23-88a3-4b16-bb7f-272ac63b0813"
      },
      "source": [
        "# value = matrix[column][row]; yes it's weird that it's not row by column\n",
        "for i in similUsers:\n",
        "  print(util_matrix[508][i])"
      ],
      "execution_count": null,
      "outputs": [
        {
          "output_type": "stream",
          "text": [
            "nan\n",
            "5.0\n",
            "5.0\n",
            "nan\n",
            "4.0\n",
            "nan\n",
            "nan\n",
            "4.0\n",
            "nan\n",
            "nan\n"
          ],
          "name": "stdout"
        }
      ]
    },
    {
      "cell_type": "code",
      "metadata": {
        "id": "f3rIQ6S_Bv4b"
      },
      "source": [
        "# Problem 2 (end)"
      ],
      "execution_count": null,
      "outputs": []
    }
  ]
}