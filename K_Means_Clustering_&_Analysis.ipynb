{
  "nbformat": 4,
  "nbformat_minor": 0,
  "metadata": {
    "colab": {
      "name": "K-Means Clustering & Analysis",
      "provenance": [],
      "collapsed_sections": [],
      "authorship_tag": "ABX9TyOlASHDZRFqjN8zydGPvgUy",
      "include_colab_link": true
    },
    "kernelspec": {
      "name": "python3",
      "display_name": "Python 3"
    },
    "language_info": {
      "name": "python"
    }
  },
  "cells": [
    {
      "cell_type": "markdown",
      "metadata": {
        "id": "view-in-github",
        "colab_type": "text"
      },
      "source": [
        "<a href=\"https://colab.research.google.com/github/chunter3/Data_Analytics_Projects/blob/master/K_Means_Clustering_%26_Analysis.ipynb\" target=\"_parent\"><img src=\"https://colab.research.google.com/assets/colab-badge.svg\" alt=\"Open In Colab\"/></a>"
      ]
    },
    {
      "cell_type": "code",
      "metadata": {
        "id": "YFZcIifvH1s_"
      },
      "source": [
        "import numpy as np\n",
        "import pandas as pd\n",
        "import matplotlib.pyplot as plt\n",
        "from sklearn.impute import SimpleImputer\n",
        "from scipy.cluster.hierarchy import dendrogram, linkage\n",
        "from sklearn.cluster import AgglomerativeClustering, KMeans\n",
        "from sklearn.datasets import load_boston, load_wine\n",
        "from sklearn.preprocessing import StandardScaler\n",
        "from sklearn.decomposition import PCA\n",
        "from sklearn import metrics\n",
        "\n",
        "%matplotlib inline"
      ],
      "execution_count": null,
      "outputs": []
    },
    {
      "cell_type": "code",
      "metadata": {
        "id": "SWYdi2-lL7--"
      },
      "source": [
        "# Problem 1 (Start)"
      ],
      "execution_count": null,
      "outputs": []
    },
    {
      "cell_type": "code",
      "metadata": {
        "colab": {
          "base_uri": "https://localhost:8080/",
          "height": 195
        },
        "id": "Sia8XFfjMA3m",
        "outputId": "96986d65-a2d9-4ee4-f6c5-9eb045bb8c97"
      },
      "source": [
        "# Cleaning up the data and generating a dataset for auto-mpg.data\n",
        "\n",
        "auto_dataset_cols = ['mpg', 'cylinders', 'displacement', 'horsepower', 'weight', 'acceleration', 'model year', 'origin', 'car name']\n",
        "auto_dataset_hpavg = pd.read_csv('auto-mpg.data', delim_whitespace=True, header=None, names=auto_dataset_cols)\n",
        "imputer = SimpleImputer(missing_values='?', strategy='constant', fill_value=np.nan)\n",
        "imputer = imputer.fit(auto_dataset_hpavg)\n",
        "auto_dataset_hpavg = imputer.transform(auto_dataset_hpavg)\n",
        "auto_dataset_hpavg = pd.DataFrame(auto_dataset_hpavg, columns=auto_dataset_cols)\n",
        "auto_dataset_hpavg['horsepower'] = pd.to_numeric(auto_dataset_hpavg['horsepower'])\n",
        "auto_dataset_hpavg['horsepower'] = auto_dataset_hpavg['horsepower'].fillna(auto_dataset_hpavg['horsepower'].mean())\n",
        "auto_dataset_hpavg.head()"
      ],
      "execution_count": null,
      "outputs": [
        {
          "output_type": "execute_result",
          "data": {
            "text/html": [
              "<div>\n",
              "<style scoped>\n",
              "    .dataframe tbody tr th:only-of-type {\n",
              "        vertical-align: middle;\n",
              "    }\n",
              "\n",
              "    .dataframe tbody tr th {\n",
              "        vertical-align: top;\n",
              "    }\n",
              "\n",
              "    .dataframe thead th {\n",
              "        text-align: right;\n",
              "    }\n",
              "</style>\n",
              "<table border=\"1\" class=\"dataframe\">\n",
              "  <thead>\n",
              "    <tr style=\"text-align: right;\">\n",
              "      <th></th>\n",
              "      <th>mpg</th>\n",
              "      <th>cylinders</th>\n",
              "      <th>displacement</th>\n",
              "      <th>horsepower</th>\n",
              "      <th>weight</th>\n",
              "      <th>acceleration</th>\n",
              "      <th>model year</th>\n",
              "      <th>origin</th>\n",
              "      <th>car name</th>\n",
              "    </tr>\n",
              "  </thead>\n",
              "  <tbody>\n",
              "    <tr>\n",
              "      <th>0</th>\n",
              "      <td>18</td>\n",
              "      <td>8</td>\n",
              "      <td>307</td>\n",
              "      <td>130.0</td>\n",
              "      <td>3504</td>\n",
              "      <td>12</td>\n",
              "      <td>70</td>\n",
              "      <td>1</td>\n",
              "      <td>chevrolet chevelle malibu</td>\n",
              "    </tr>\n",
              "    <tr>\n",
              "      <th>1</th>\n",
              "      <td>15</td>\n",
              "      <td>8</td>\n",
              "      <td>350</td>\n",
              "      <td>165.0</td>\n",
              "      <td>3693</td>\n",
              "      <td>11.5</td>\n",
              "      <td>70</td>\n",
              "      <td>1</td>\n",
              "      <td>buick skylark 320</td>\n",
              "    </tr>\n",
              "    <tr>\n",
              "      <th>2</th>\n",
              "      <td>18</td>\n",
              "      <td>8</td>\n",
              "      <td>318</td>\n",
              "      <td>150.0</td>\n",
              "      <td>3436</td>\n",
              "      <td>11</td>\n",
              "      <td>70</td>\n",
              "      <td>1</td>\n",
              "      <td>plymouth satellite</td>\n",
              "    </tr>\n",
              "    <tr>\n",
              "      <th>3</th>\n",
              "      <td>16</td>\n",
              "      <td>8</td>\n",
              "      <td>304</td>\n",
              "      <td>150.0</td>\n",
              "      <td>3433</td>\n",
              "      <td>12</td>\n",
              "      <td>70</td>\n",
              "      <td>1</td>\n",
              "      <td>amc rebel sst</td>\n",
              "    </tr>\n",
              "    <tr>\n",
              "      <th>4</th>\n",
              "      <td>17</td>\n",
              "      <td>8</td>\n",
              "      <td>302</td>\n",
              "      <td>140.0</td>\n",
              "      <td>3449</td>\n",
              "      <td>10.5</td>\n",
              "      <td>70</td>\n",
              "      <td>1</td>\n",
              "      <td>ford torino</td>\n",
              "    </tr>\n",
              "  </tbody>\n",
              "</table>\n",
              "</div>"
            ],
            "text/plain": [
              "  mpg cylinders displacement  ...  model year origin                   car name\n",
              "0  18         8          307  ...          70      1  chevrolet chevelle malibu\n",
              "1  15         8          350  ...          70      1          buick skylark 320\n",
              "2  18         8          318  ...          70      1         plymouth satellite\n",
              "3  16         8          304  ...          70      1              amc rebel sst\n",
              "4  17         8          302  ...          70      1                ford torino\n",
              "\n",
              "[5 rows x 9 columns]"
            ]
          },
          "metadata": {
            "tags": []
          },
          "execution_count": 3
        }
      ]
    },
    {
      "cell_type": "code",
      "metadata": {
        "colab": {
          "base_uri": "https://localhost:8080/",
          "height": 315
        },
        "id": "s9xhv64_ZSYv",
        "outputId": "b02d6cee-76ac-49fc-fb21-0d0148ea4a5e"
      },
      "source": [
        "# Generating a dendrogram for the hierarchical clustering\n",
        "X = auto_dataset_hpavg.loc[:, ['mpg','displacement','horsepower','weight','acceleration']].values\n",
        "Z = linkage(X,'average')\n",
        "dendrogram(Z, truncate_mode='lastp',p=12,leaf_font_size=12,show_contracted=True)\n",
        "plt.title('Hierarchical Clustering Dendrogram (Truncated)')\n",
        "plt.xlabel('Cluster size')\n",
        "plt.ylabel('Distance')\n",
        "plt.show"
      ],
      "execution_count": null,
      "outputs": [
        {
          "output_type": "execute_result",
          "data": {
            "text/plain": [
              "<function matplotlib.pyplot.show>"
            ]
          },
          "metadata": {
            "tags": []
          },
          "execution_count": 5
        },
        {
          "output_type": "display_data",
          "data": {
            "image/png": "[encoded data removed]",
            "text/plain": [
              "<Figure size 432x288 with 1 Axes>"
            ]
          },
          "metadata": {
            "tags": [],
            "needs_background": "light"
          }
        }
      ]
    },
    {
      "cell_type": "code",
      "metadata": {
        "id": "xY8s2YBMnHAs",
        "colab": {
          "base_uri": "https://localhost:8080/"
        },
        "outputId": "4e15632b-b90e-4a07-8d56-5afed0ec6021"
      },
      "source": [
        "# Performing hierachical clustering & initializing KMeans\n",
        "hc = AgglomerativeClustering(n_clusters=3,affinity='euclidean',linkage='average').fit(X)\n",
        "kmeans = KMeans()"
      ],
      "execution_count": null,
      "outputs": [
        {
          "output_type": "stream",
          "text": [
            "AgglomerativeClustering(affinity='euclidean', compute_full_tree='auto',\n",
            "                        connectivity=None, distance_threshold=None,\n",
            "                        linkage='average', memory=None, n_clusters=3)\n"
          ],
          "name": "stdout"
        }
      ]
    },
    {
      "cell_type": "code",
      "metadata": {
        "colab": {
          "base_uri": "https://localhost:8080/",
          "height": 466
        },
        "id": "nma9rGLev7hz",
        "outputId": "8d755ba5-b06b-4e63-ece1-d721bb0c20db"
      },
      "source": [
        "y_hc = hc.fit_predict(X)\n",
        "\n",
        "plt.scatter(X[y_hc==0,0], X[y_hc==0,1],s=100, c='blue') # Cluster 1\n",
        "plt.scatter(X[y_hc==1,0], X[y_hc==1,1],s=100, c='green') # Cluster 2\n",
        "plt.scatter(X[y_hc==2,0], X[y_hc==2,1],s=100, c='orange') # Cluster 3"
      ],
      "execution_count": null,
      "outputs": [
        {
          "output_type": "stream",
          "text": [
            "[2 2 2 2 2 1 1 1 1 2 2 2 2 0 0 0 0 0 0 0 0 0 0 0 0 1 1 1 1 0 0 0 0 0 2 2 0\n",
            " 0 1 1 1 1 1 1 1 0 0 0 0 0 0 0 0 0 0 0 0 0 0 0 0 0 1 1 1 1 2 1 1 1 1 0 2 1\n",
            " 1 1 0 0 0 0 0 0 0 0 0 1 2 2 1 2 1 1 1 1 1 1 2 0 0 0 0 0 0 1 1 1 1 0 0 0 0\n",
            " 0 0 0 0 1 1 0 0 0 0 2 0 0 2 0 0 0 2 0 0 0 0 2 2 2 1 1 1 1 1 0 0 0 0 0 0 0\n",
            " 0 0 0 0 0 2 2 0 1 1 1 1 2 2 2 2 0 0 0 0 0 0 0 0 0 0 0 0 0 0 0 0 0 0 0 0 0\n",
            " 0 0 1 1 2 1 0 2 0 0 0 0 0 0 2 2 2 0 0 0 0 0 0 2 0 0 2 1 1 2 2 0 0 0 0 0 2\n",
            " 1 1 1 2 2 2 2 1 1 1 1 0 0 0 0 0 0 0 0 0 0 0 0 0 0 0 0 2 2 2 2 0 0 0 2 0 2\n",
            " 0 2 2 2 2 0 1 0 0 0 0 0 0 0 0 0 0 0 2 0 0 0 0 0 0 2 2 2 2 2 1 1 2 2 0 0 0\n",
            " 0 2 2 0 2 0 0 0 0 0 0 0 0 0 0 0 0 0 0 0 2 0 0 0 0 0 0 0 0 0 0 0 0 0 0 0 0\n",
            " 0 0 0 0 0 0 0 0 0 0 0 0 0 0 0 0 0 0 0 0 0 0 0 0 0 0 0 0 0 0 2 2 0 2 0 0 0\n",
            " 0 0 0 0 0 0 0 0 0 0 0 0 0 0 0 0 0 0 0 0 0 0 0 0 0 0 0 0]\n"
          ],
          "name": "stdout"
        },
        {
          "output_type": "execute_result",
          "data": {
            "text/plain": [
              "<matplotlib.collections.PathCollection at 0x7f89823182d0>"
            ]
          },
          "metadata": {
            "tags": []
          },
          "execution_count": 7
        },
        {
          "output_type": "display_data",
          "data": {
            "image/png": "[encoded data removed]",
            "text/plain": [
              "<Figure size 432x288 with 1 Axes>"
            ]
          },
          "metadata": {
            "tags": [],
            "needs_background": "light"
          }
        }
      ]
    },
    {
      "cell_type": "code",
      "metadata": {
        "colab": {
          "base_uri": "https://localhost:8080/"
        },
        "id": "G1vcCHw4Auga",
        "outputId": "685fe1d9-e68e-4357-dafc-f7ed52974d42"
      },
      "source": [
        "# Computing the mean and variance of the 1st cluster (blue cluster)\n",
        "c_mean = [X[y_hc==0,0].sum()/len(X[y_hc==0,0]),X[y_hc==0,1].sum()/len(X[y_hc==0,1])] # Computes the centroid of a cluster, which is similar to its mean\n",
        "print(\"Centroid of blue cluster:\",c_mean)\n",
        "c_array = np.vstack((X[y_hc==0,0], X[y_hc==0,1])).T\n",
        "kmeans.fit(c_array)\n",
        "c_var = c_array.var() \n",
        "print(\"Variance of blue cluster:\", c_var)"
      ],
      "execution_count": null,
      "outputs": [
        {
          "output_type": "stream",
          "text": [
            "Centroid of blue cluster: [27.365413533834587, 131.93421052631578]\n",
            "Variance of blue cluster: 4163.293327032334\n"
          ],
          "name": "stdout"
        }
      ]
    },
    {
      "cell_type": "code",
      "metadata": {
        "colab": {
          "base_uri": "https://localhost:8080/"
        },
        "id": "RihQL1cgNlLx",
        "outputId": "74c0d38f-1be3-4a80-e478-7b551b07e216"
      },
      "source": [
        "# Computing the mean and variance of the 2nd cluster (green cluster)\n",
        "c_mean = [X[y_hc==1,0].sum()/len(X[y_hc==1,0]),X[y_hc==1,1].sum()/len(X[y_hc==1,1])] \n",
        "print(\"Centroid of green cluster:\",c_mean)\n",
        "c_array = np.vstack((X[y_hc==1,0], X[y_hc==1,1])).T\n",
        "kmeans.fit(c_array)\n",
        "c_var = c_array.var()\n",
        "print(\"Variance of green cluster:\", c_var)"
      ],
      "execution_count": null,
      "outputs": [
        {
          "output_type": "stream",
          "text": [
            "Centroid of green cluster: [13.8890625, 358.09375]\n",
            "Variance of green cluster: 30673.271879272474\n"
          ],
          "name": "stdout"
        }
      ]
    },
    {
      "cell_type": "code",
      "metadata": {
        "colab": {
          "base_uri": "https://localhost:8080/"
        },
        "id": "xikHoJO_O07f",
        "outputId": "7b2cd7b5-9e67-4f20-9608-486c7af08e92"
      },
      "source": [
        "# Computing the mean and variance of the 3rd cluster (orange cluster)\n",
        "c_mean = [X[y_hc==2,0].sum()/len(X[y_hc==2,0]),X[y_hc==2,1].sum()/len(X[y_hc==2,1])] \n",
        "print(\"Centroid of orange cluster:\",c_mean)\n",
        "c_array = np.vstack((X[y_hc==2,0], X[y_hc==2,1])).T\n",
        "kmeans.fit(c_array)\n",
        "c_var = c_array.var()\n",
        "print(\"Variance of orange cluster:\", c_var)"
      ],
      "execution_count": null,
      "outputs": [
        {
          "output_type": "stream",
          "text": [
            "Centroid of orange cluster: [17.510294117647064, 278.9852941176471]\n",
            "Variance of orange cluster: 18516.695289251733\n"
          ],
          "name": "stdout"
        }
      ]
    },
    {
      "cell_type": "code",
      "metadata": {
        "colab": {
          "base_uri": "https://localhost:8080/"
        },
        "id": "96BGcf5Sa49k",
        "outputId": "d0ee85e9-a6b7-4a11-cc48-e662cece8295"
      },
      "source": [
        "# Mean & Variance of discrete attributes based on origin (origin = 1)\n",
        "origin_1 = auto_dataset_hpavg[auto_dataset_hpavg['origin']==1]\n",
        "X = origin_1.loc[:, ['mpg','horsepower','weight','acceleration']].values\n",
        "\n",
        "print(\"Mean of mpg:\", X[:,[0]].mean())\n",
        "print(\"Variance of mpg:\", X[:,[0]].var())\n",
        "\n",
        "print(\"\\nMean of horsepower:\", X[:,[1]].mean())\n",
        "print(\"Variance of horsepower:\", X[:,[1]].var())\n",
        "\n",
        "print(\"\\nMean of weight:\", X[:,[2]].mean())\n",
        "print(\"Variance of weight:\", X[:,[2]].var())\n",
        "\n",
        "print(\"\\nMean of acceleration:\", X[:,[3]].mean())\n",
        "print(\"Variance of acceleration:\", X[:,[3]].var())"
      ],
      "execution_count": null,
      "outputs": [
        {
          "output_type": "stream",
          "text": [
            "Mean of mpg: 20.083534136546177\n",
            "Variance of mpg: 40.832379477750344\n",
            "\n",
            "Mean of horsepower: 118.81476928120647\n",
            "Variance of horsepower: 1563.2289617448582\n",
            "\n",
            "Mean of weight: 3361.9317269076305\n",
            "Variance of weight: 629158.2001580624\n",
            "\n",
            "Mean of acceleration: 15.033734939759027\n",
            "Variance of acceleration: 7.538219383558335\n"
          ],
          "name": "stdout"
        }
      ]
    },
    {
      "cell_type": "code",
      "metadata": {
        "colab": {
          "base_uri": "https://localhost:8080/"
        },
        "id": "8ppAvW93seoo",
        "outputId": "f3973648-0aa3-4317-f543-13cb0d8412d0"
      },
      "source": [
        "# Mean & Variance of discrete attributes based on origin (origin = 2)\n",
        "origin_2 = auto_dataset_hpavg[auto_dataset_hpavg['origin']==2]\n",
        "X = origin_2.loc[:, ['mpg','horsepower','weight','acceleration']].values\n",
        "\n",
        "print(\"Mean of mpg:\", X[:,[0]].mean())\n",
        "print(\"Variance of mpg:\", X[:,[0]].var())\n",
        "\n",
        "print(\"\\nMean of horsepower:\", X[:,[1]].mean())\n",
        "print(\"Variance of horsepower:\", X[:,[1]].var())\n",
        "\n",
        "print(\"\\nMean of weight:\", X[:,[2]].mean())\n",
        "print(\"Variance of weight:\", X[:,[2]].var())\n",
        "\n",
        "print(\"\\nMean of acceleration:\", X[:,[3]].mean())\n",
        "print(\"Variance of acceleration:\", X[:,[3]].var())"
      ],
      "execution_count": null,
      "outputs": [
        {
          "output_type": "stream",
          "text": [
            "Mean of mpg: 27.891428571428573\n",
            "Variance of mpg: 44.565355102040805\n",
            "\n",
            "Mean of horsepower: 81.24198250728863\n",
            "Variance of horsepower: 404.79322051186165\n",
            "\n",
            "Mean of weight: 2423.3\n",
            "Variance of weight: 236711.72428571447\n",
            "\n",
            "Mean of acceleration: 16.787142857142857\n",
            "Variance of acceleration: 9.143691836734693\n"
          ],
          "name": "stdout"
        }
      ]
    },
    {
      "cell_type": "code",
      "metadata": {
        "colab": {
          "base_uri": "https://localhost:8080/"
        },
        "id": "QHS8vbgzsfOV",
        "outputId": "afdf2f21-8cd8-45eb-da2f-c786ad1cbb72"
      },
      "source": [
        "# Mean & Variance of discrete attributes based on origin (origin = 3)\n",
        "origin_3 = auto_dataset_hpavg[auto_dataset_hpavg['origin']==3]\n",
        "X = origin_3.loc[:, ['mpg','horsepower','weight','acceleration']].values\n",
        "\n",
        "print(\"Mean of mpg:\", X[:,[0]].mean())\n",
        "print(\"Variance of mpg:\", X[:,[0]].var())\n",
        "\n",
        "print(\"\\nMean of horsepower:\", X[:,[1]].mean())\n",
        "print(\"Variance of horsepower:\", X[:,[1]].var())\n",
        "\n",
        "print(\"\\nMean of weight:\", X[:,[2]].mean())\n",
        "print(\"Variance of weight:\", X[:,[2]].var())\n",
        "\n",
        "print(\"\\nMean of acceleration:\", X[:,[3]].mean())\n",
        "print(\"Variance of acceleration:\", X[:,[3]].var())"
      ],
      "execution_count": null,
      "outputs": [
        {
          "output_type": "stream",
          "text": [
            "Mean of mpg: 30.450632911392397\n",
            "Variance of mpg: 36.61920846018268\n",
            "\n",
            "Mean of horsepower: 79.83544303797468\n",
            "Variance of horsepower: 313.5045665758692\n",
            "\n",
            "Mean of weight: 2221.227848101266\n",
            "Variance of weight: 101418.25188271108\n",
            "\n",
            "Mean of acceleration: 16.172151898734175\n",
            "Variance of acceleration: 3.773401698445763\n"
          ],
          "name": "stdout"
        }
      ]
    },
    {
      "cell_type": "code",
      "metadata": {
        "id": "iHqcF-hBzGkt"
      },
      "source": [
        "# Problem 1 (End)"
      ],
      "execution_count": null,
      "outputs": []
    },
    {
      "cell_type": "code",
      "metadata": {
        "id": "9iVikOAvzJPK"
      },
      "source": [
        "# Problem 2 (Start)"
      ],
      "execution_count": null,
      "outputs": []
    },
    {
      "cell_type": "code",
      "metadata": {
        "id": "20ISGbc_KYRV"
      },
      "source": [
        "# Loading the boston dataset and scaling it via StandardScaler and PCA\n",
        "\n",
        "boston = load_boston()\n",
        "scaler = StandardScaler()\n",
        "pca = PCA(2)\n",
        "boston_scal = scaler.fit_transform(boston.data)\n",
        "boston_scal = pca.fit_transform(boston_scal)"
      ],
      "execution_count": null,
      "outputs": []
    },
    {
      "cell_type": "code",
      "metadata": {
        "colab": {
          "base_uri": "https://localhost:8080/",
          "height": 298
        },
        "id": "SWw0AZI6Vt7K",
        "outputId": "5cf416ab-60fc-4f51-c72f-a144b593bd36"
      },
      "source": [
        "# Performing Kmeans analysis (2 clusters)\n",
        "kmeans = KMeans(n_clusters=2)\n",
        "label = kmeans.fit_predict(boston_scal)\n",
        "cluster1 = boston_scal[label == 0]\n",
        "cluster2 = boston_scal[label == 1]\n",
        "plt.scatter(cluster1[:,0] , cluster1[:,1] , color = 'red')\n",
        "plt.scatter(cluster2[:,0] , cluster2[:,1] , color = 'black')\n",
        "plt.show()\n",
        "\n",
        "print(\"\\nSilhouette score:\",metrics.silhouette_score(boston_scal, label, metric='euclidean'))"
      ],
      "execution_count": null,
      "outputs": [
        {
          "output_type": "display_data",
          "data": {
            "image/png": "[encoded data removed]",
            "text/plain": [
              "<Figure size 432x288 with 1 Axes>"
            ]
          },
          "metadata": {
            "tags": [],
            "needs_background": "light"
          }
        },
        {
          "output_type": "stream",
          "text": [
            "\n",
            "Silhouette score: 0.5443801950361548\n"
          ],
          "name": "stdout"
        }
      ]
    },
    {
      "cell_type": "code",
      "metadata": {
        "colab": {
          "base_uri": "https://localhost:8080/",
          "height": 298
        },
        "id": "b_7KHx9ln5d0",
        "outputId": "ba4b6ca7-1953-48d3-969f-c006c4ba1c09"
      },
      "source": [
        "# Performing Kmeans analysis (3 clusters)\n",
        "kmeans = KMeans(n_clusters=3)\n",
        "label = kmeans.fit_predict(boston_scal)\n",
        "cluster1 = boston_scal[label == 0]\n",
        "cluster2 = boston_scal[label == 1]\n",
        "cluster3 = boston_scal[label == 2]\n",
        "plt.scatter(cluster1[:,0] , cluster1[:,1] , color = 'red')\n",
        "plt.scatter(cluster2[:,0] , cluster2[:,1] , color = 'black')\n",
        "plt.scatter(cluster3[:,0] , cluster3[:,1] , color = 'blue')\n",
        "plt.show()\n",
        "print(\"\\nSilhouette score:\",metrics.silhouette_score(boston_scal, label, metric='euclidean'))"
      ],
      "execution_count": null,
      "outputs": [
        {
          "output_type": "display_data",
          "data": {
            "image/png": "[encoded data removed]",
            "text/plain": [
              "<Figure size 432x288 with 1 Axes>"
            ]
          },
          "metadata": {
            "tags": [],
            "needs_background": "light"
          }
        },
        {
          "output_type": "stream",
          "text": [
            "\n",
            "Silhouette score: 0.45973695868043046\n"
          ],
          "name": "stdout"
        }
      ]
    },
    {
      "cell_type": "code",
      "metadata": {
        "colab": {
          "base_uri": "https://localhost:8080/",
          "height": 298
        },
        "id": "YKmy2NBQod1s",
        "outputId": "682469bc-010d-4e0c-d146-e88a8f2dcf9f"
      },
      "source": [
        "# Performing Kmeans analysis (4 clusters)\n",
        "kmeans = KMeans(n_clusters=4)\n",
        "label = kmeans.fit_predict(boston_scal)\n",
        "cluster1 = boston_scal[label == 0]\n",
        "cluster2 = boston_scal[label == 1]\n",
        "cluster3 = boston_scal[label == 2]\n",
        "cluster4 = boston_scal[label == 3]\n",
        "plt.scatter(cluster1[:,0] , cluster1[:,1] , color = 'red')\n",
        "plt.scatter(cluster2[:,0] , cluster2[:,1] , color = 'black')\n",
        "plt.scatter(cluster3[:,0] , cluster3[:,1] , color = 'blue')\n",
        "plt.scatter(cluster4[:,0] , cluster4[:,1] , color = 'yellow')\n",
        "plt.show()\n",
        "print(\"\\nSilhouette score:\",metrics.silhouette_score(boston_scal, label, metric='euclidean'))"
      ],
      "execution_count": null,
      "outputs": [
        {
          "output_type": "display_data",
          "data": {
            "image/png": "[encoded data removed]",
            "text/plain": [
              "<Figure size 432x288 with 1 Axes>"
            ]
          },
          "metadata": {
            "tags": [],
            "needs_background": "light"
          }
        },
        {
          "output_type": "stream",
          "text": [
            "\n",
            "Silhouette score: 0.4490786150099788\n"
          ],
          "name": "stdout"
        }
      ]
    },
    {
      "cell_type": "code",
      "metadata": {
        "colab": {
          "base_uri": "https://localhost:8080/",
          "height": 298
        },
        "id": "ok6XLEfbpP2o",
        "outputId": "e04d3554-b3b0-4f85-d226-6104cd46dcac"
      },
      "source": [
        "# Performing Kmeans analysis (5 clusters)\n",
        "kmeans = KMeans(n_clusters=5)\n",
        "label = kmeans.fit_predict(boston_scal)\n",
        "cluster1 = boston_scal[label == 0]\n",
        "cluster2 = boston_scal[label == 1]\n",
        "cluster3 = boston_scal[label == 2]\n",
        "cluster4 = boston_scal[label == 3]\n",
        "cluster5 = boston_scal[label == 4]\n",
        "plt.scatter(cluster1[:,0] , cluster1[:,1] , color = 'red')\n",
        "plt.scatter(cluster2[:,0] , cluster2[:,1] , color = 'black')\n",
        "plt.scatter(cluster3[:,0] , cluster3[:,1] , color = 'blue')\n",
        "plt.scatter(cluster4[:,0] , cluster4[:,1] , color = 'yellow')\n",
        "plt.scatter(cluster5[:,0] , cluster5[:,1] , color = 'green')\n",
        "plt.show()\n",
        "\n",
        "print(\"\\nSilhouette score:\",metrics.silhouette_score(boston_scal, label, metric='euclidean'))"
      ],
      "execution_count": null,
      "outputs": [
        {
          "output_type": "display_data",
          "data": {
            "image/png": "[encoded data removed]",
            "text/plain": [
              "<Figure size 432x288 with 1 Axes>"
            ]
          },
          "metadata": {
            "tags": [],
            "needs_background": "light"
          }
        },
        {
          "output_type": "stream",
          "text": [
            "\n",
            "Silhouette score: 0.4203658752426395\n"
          ],
          "name": "stdout"
        }
      ]
    },
    {
      "cell_type": "code",
      "metadata": {
        "colab": {
          "base_uri": "https://localhost:8080/",
          "height": 298
        },
        "id": "gCoBdoMxpgKD",
        "outputId": "2951bff2-8e8e-4e07-a8ae-665b41917a73"
      },
      "source": [
        "# Performing Kmeans analysis (6 clusters)\n",
        "kmeans = KMeans(n_clusters=6)\n",
        "label = kmeans.fit_predict(boston_scal)\n",
        "cluster1 = boston_scal[label == 0]\n",
        "cluster2 = boston_scal[label == 1]\n",
        "cluster3 = boston_scal[label == 2]\n",
        "cluster4 = boston_scal[label == 3]\n",
        "cluster5 = boston_scal[label == 4]\n",
        "cluster6 = boston_scal[label == 5]\n",
        "plt.scatter(cluster1[:,0] , cluster1[:,1] , color = 'red')\n",
        "plt.scatter(cluster2[:,0] , cluster2[:,1] , color = 'black')\n",
        "plt.scatter(cluster3[:,0] , cluster3[:,1] , color = 'blue')\n",
        "plt.scatter(cluster4[:,0] , cluster4[:,1] , color = 'yellow')\n",
        "plt.scatter(cluster5[:,0] , cluster5[:,1] , color = 'green')\n",
        "plt.scatter(cluster6[:,0] , cluster6[:,1] , color = 'purple')\n",
        "plt.show()\n",
        "print(\"\\nSilhouette score:\",metrics.silhouette_score(boston_scal, label, metric='euclidean'))"
      ],
      "execution_count": null,
      "outputs": [
        {
          "output_type": "display_data",
          "data": {
            "image/png": "[encoded data removed]",
            "text/plain": [
              "<Figure size 432x288 with 1 Axes>"
            ]
          },
          "metadata": {
            "tags": [],
            "needs_background": "light"
          }
        },
        {
          "output_type": "stream",
          "text": [
            "\n",
            "Silhouette score: 0.4477929682365125\n"
          ],
          "name": "stdout"
        }
      ]
    },
    {
      "cell_type": "code",
      "metadata": {
        "colab": {
          "base_uri": "https://localhost:8080/"
        },
        "id": "ZmkW0cLlFTW1",
        "outputId": "09424ed7-3d19-4847-e6bf-f3ccb5374065"
      },
      "source": [
        "boston = load_boston()\n",
        "scaler = StandardScaler()\n",
        "boston_scal = scaler.fit_transform(boston.data)\n",
        "kmeans = KMeans(n_clusters=2)\n",
        "label = kmeans.fit_predict(boston_scal)\n",
        "boston.feature_names"
      ],
      "execution_count": null,
      "outputs": [
        {
          "output_type": "execute_result",
          "data": {
            "text/plain": [
              "array(['CRIM', 'ZN', 'INDUS', 'CHAS', 'NOX', 'RM', 'AGE', 'DIS', 'RAD',\n",
              "       'TAX', 'PTRATIO', 'B', 'LSTAT'], dtype='<U7')"
            ]
          },
          "metadata": {
            "tags": []
          },
          "execution_count": 21
        }
      ]
    },
    {
      "cell_type": "code",
      "metadata": {
        "id": "kY7Aemi7p8FK",
        "colab": {
          "base_uri": "https://localhost:8080/"
        },
        "outputId": "e6b249a8-6c6d-4dd8-9fd0-f2f261b055c0"
      },
      "source": [
        "# Mean of all features for the first cluster w/in optimal clustering\n",
        "cluster1 = boston_scal[label == 0]\n",
        "cluster2 = boston_scal[label == 1]\n",
        "print(\"Mean of each attribute (1st cluster):\\n\")\n",
        "print(\"CRIM:\",cluster1[:,0].mean())\n",
        "print(\"ZN:\",cluster1[:,1].mean())\n",
        "print(\"INDUS:\",cluster1[:,2].mean())\n",
        "print(\"CHAS:\",cluster1[:,3].mean())\n",
        "print(\"NOX:\",cluster1[:,4].mean())\n",
        "print(\"RM:\",cluster1[:,5].mean())\n",
        "print(\"AGE:\",cluster1[:,6].mean())\n",
        "print(\"DIS:\",cluster1[:,7].mean())\n",
        "print(\"RAD:\",cluster1[:,8].mean())\n",
        "print(\"TAX:\",cluster1[:,9].mean())\n",
        "print(\"PTRATIO:\",cluster1[:,10].mean())\n",
        "print(\"B:\",cluster1[:,11].mean())\n",
        "print(\"LSTAT:\",cluster1[:,12].mean(),\"\\n\")\n",
        "print(\"Mean of each attribute (2nd cluster):\\n\")\n",
        "print(\"CRIM:\",cluster2[:,0].mean())\n",
        "print(\"ZN:\",cluster2[:,1].mean())\n",
        "print(\"INDUS:\",cluster2[:,2].mean())\n",
        "print(\"CHAS:\",cluster2[:,3].mean())\n",
        "print(\"NOX:\",cluster2[:,4].mean())\n",
        "print(\"RM:\",cluster2[:,5].mean())\n",
        "print(\"AGE:\",cluster2[:,6].mean())\n",
        "print(\"DIS:\",cluster2[:,7].mean())\n",
        "print(\"RAD:\",cluster2[:,8].mean())\n",
        "print(\"TAX:\",cluster2[:,9].mean())\n",
        "print(\"PTRATIO:\",cluster2[:,10].mean())\n",
        "print(\"B:\",cluster2[:,11].mean())\n",
        "print(\"LSTAT:\",cluster2[:,12].mean(), \"\\n\")\n",
        "print(\"Centroids:\",kmeans.cluster_centers_)"
      ],
      "execution_count": null,
      "outputs": [
        {
          "output_type": "stream",
          "text": [
            "Mean of each attribute (1st cluster):\n",
            "\n",
            "CRIM: 0.7251456565188821\n",
            "ZN: -0.4877223646701313\n",
            "INDUS: 1.1531126384179924\n",
            "CHAS: -0.0054123686440033895\n",
            "NOX: 1.0867690034807838\n",
            "RM: -0.45226302035956845\n",
            "AGE: 0.8087604128144869\n",
            "DIS: -0.849865095929965\n",
            "RAD: 1.0851445037313692\n",
            "TAX: 1.1737306044371143\n",
            "PTRATIO: 0.5312481131904198\n",
            "B: -0.6067932120021415\n",
            "LSTAT: 0.8297874631907967 \n",
            "\n",
            "Mean of each attribute (2nd cluster):\n",
            "\n",
            "CRIM: -0.39012395502687586\n",
            "ZN: 0.2623916673149339\n",
            "INDUS: -0.6203675896656118\n",
            "CHAS: 0.002911821428536735\n",
            "NOX: -0.584675117374156\n",
            "RM: 0.24331475563415747\n",
            "AGE: -0.43510818561752207\n",
            "DIS: 0.4572222552571555\n",
            "RAD: -0.5838011463843534\n",
            "TAX: -0.6314599300467149\n",
            "PTRATIO: -0.2858082554246488\n",
            "B: 0.3264510593446304\n",
            "LSTAT: -0.4464206108959614 \n",
            "\n",
            "Centroids: [[ 0.72514566 -0.48772236  1.15311264 -0.00541237  1.086769   -0.45226302\n",
            "   0.80876041 -0.8498651   1.0851445   1.1737306   0.53124811 -0.60679321\n",
            "   0.82978746]\n",
            " [-0.39012396  0.26239167 -0.62036759  0.00291182 -0.58467512  0.24331476\n",
            "  -0.43510819  0.45722226 -0.58380115 -0.63145993 -0.28580826  0.32645106\n",
            "  -0.44642061]]\n"
          ],
          "name": "stdout"
        }
      ]
    },
    {
      "cell_type": "code",
      "metadata": {
        "id": "h26AztB6NvX6"
      },
      "source": [
        "# Problem 2 (End)"
      ],
      "execution_count": null,
      "outputs": []
    },
    {
      "cell_type": "code",
      "metadata": {
        "id": "2FhHzbc3MDoo"
      },
      "source": [
        "# Problem 3 (Start)"
      ],
      "execution_count": null,
      "outputs": []
    },
    {
      "cell_type": "code",
      "metadata": {
        "id": "nktYDaf5Qkww"
      },
      "source": [
        "# Loading the wine dataset and scaling it via StandardScaler and PCA\n",
        "wine = load_wine()\n",
        "scaler = StandardScaler()\n",
        "pca = PCA(2)\n",
        "wine_scal = scaler.fit_transform(wine.data)\n",
        "wine_scal = pca.fit_transform(wine_scal)"
      ],
      "execution_count": null,
      "outputs": []
    },
    {
      "cell_type": "code",
      "metadata": {
        "colab": {
          "base_uri": "https://localhost:8080/",
          "height": 298
        },
        "id": "vPoHnK-2RP85",
        "outputId": "e91f88d0-6191-4f5b-8aba-5e23ceaeb734"
      },
      "source": [
        "# Performing Kmeans analysis\n",
        "kmeans = KMeans(n_clusters=3)\n",
        "label = kmeans.fit_predict(wine_scal)\n",
        "cluster1 = wine_scal[label == 0]\n",
        "cluster2 = wine_scal[label == 1]\n",
        "cluster3 = wine_scal[label == 2]\n",
        "plt.scatter(cluster1[:,0] , cluster1[:,1] , color = 'red')\n",
        "plt.scatter(cluster2[:,0] , cluster2[:,1] , color = 'black')\n",
        "plt.scatter(cluster3[:,0] , cluster3[:,1] , color = 'blue')\n",
        "plt.show()\n",
        "print(\"\\nSilhouette score:\",metrics.silhouette_score(wine_scal, label, metric='euclidean'))"
      ],
      "execution_count": null,
      "outputs": [
        {
          "output_type": "display_data",
          "data": {
            "image/png": "[encoded data removed]",
            "text/plain": [
              "<Figure size 432x288 with 1 Axes>"
            ]
          },
          "metadata": {
            "tags": [],
            "needs_background": "light"
          }
        },
        {
          "output_type": "stream",
          "text": [
            "\n",
            "Silhouette score: 0.5610505693103248\n"
          ],
          "name": "stdout"
        }
      ]
    },
    {
      "cell_type": "code",
      "metadata": {
        "colab": {
          "base_uri": "https://localhost:8080/"
        },
        "id": "uZTOp55WWjJ_",
        "outputId": "2f6495c5-454b-4ace-85c9-45d395b026bc"
      },
      "source": [
        "# Homogenity & completeness score for 1st cluster in optimal clustering\n",
        "kmeans = KMeans(n_clusters=3)\n",
        "label = kmeans.fit_predict(wine_scal)\n",
        "print(\"Homogenity:\", metrics.homogeneity_score(wine.target,label))\n",
        "print(\"Completeness:\", metrics.completeness_score(wine.target,label))"
      ],
      "execution_count": null,
      "outputs": [
        {
          "output_type": "stream",
          "text": [
            "Homogenity: 0.8859092326545044\n",
            "Completeness: 0.8829240334944822\n"
          ],
          "name": "stdout"
        }
      ]
    },
    {
      "cell_type": "code",
      "metadata": {
        "id": "GTHlRPAP-DWk"
      },
      "source": [
        "# Problem 3 (End)"
      ],
      "execution_count": null,
      "outputs": []
    }
  ]
}