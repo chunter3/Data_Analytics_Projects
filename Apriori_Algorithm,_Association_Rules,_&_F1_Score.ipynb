{
  "nbformat": 4,
  "nbformat_minor": 0,
  "metadata": {
    "colab": {
      "name": "Apriori Algorithm, Association Rules, & F1 Score",
      "provenance": [],
      "collapsed_sections": [],
      "authorship_tag": "ABX9TyMuOYDm3A6m0fLV/lOuLlAt",
      "include_colab_link": true
    },
    "kernelspec": {
      "name": "python3",
      "display_name": "Python 3"
    }
  },
  "cells": [
    {
      "cell_type": "markdown",
      "metadata": {
        "id": "view-in-github",
        "colab_type": "text"
      },
      "source": [
        "<a href=\"https://colab.research.google.com/github/chunter3/Data_Analytics_Projects/blob/master/Apriori_Algorithm%2C_Association_Rules%2C_%26_F1_Score.ipynb\" target=\"_parent\"><img src=\"https://colab.research.google.com/assets/colab-badge.svg\" alt=\"Open In Colab\"/></a>"
      ]
    },
    {
      "cell_type": "code",
      "metadata": {
        "id": "vpQTgUdx6OJr"
      },
      "source": [
        "import numpy as np\n",
        "import pandas as pd\n",
        "from mlxtend.frequent_patterns import apriori\n",
        "from mlxtend.frequent_patterns import association_rules\n",
        "%matplotlib inline"
      ],
      "execution_count": null,
      "outputs": []
    },
    {
      "cell_type": "code",
      "metadata": {
        "id": "LWqu3pTN6Vhp"
      },
      "source": [
        "# Problem 1 (Start)"
      ],
      "execution_count": null,
      "outputs": []
    },
    {
      "cell_type": "code",
      "metadata": {
        "id": "mpOtQExc6XiI"
      },
      "source": [
        "# Loading the Online Retail dataset using a Pandas dataframe (this cell takes a while to run)\n",
        "\n",
        "online_ret_ds = pd.read_excel('Online Retail.xlsx')\n",
        "online_ret_ds.head()"
      ],
      "execution_count": null,
      "outputs": []
    },
    {
      "cell_type": "code",
      "metadata": {
        "colab": {
          "base_uri": "https://localhost:8080/",
          "height": 402
        },
        "id": "DDaSKOmz0Qs8",
        "outputId": "43fece70-743f-477f-b3bc-91d25254eb4d"
      },
      "source": [
        "# Cleaning up the dataset\n",
        "\n",
        "online_ret_ds['Description'] = online_ret_ds['Description'].str.strip() # Removing whitespace of elements in 'Description' column\n",
        "online_ret_ds.dropna(axis=0, subset=['InvoiceNo'], inplace=True) # Removing invalid rows based on 'InvoiceNo'\n",
        "online_ret_ds['InvoiceNo'] = online_ret_ds['InvoiceNo'].astype('str') # Cast the 'InvoiceNo' column to a string\n",
        "online_ret_ds = online_ret_ds[~online_ret_ds['InvoiceNo'].str.contains('C')] # Removing rows that have 'C' in their InvoiceNo\n",
        "online_ret_ds"
      ],
      "execution_count": null,
      "outputs": [
        {
          "output_type": "execute_result",
          "data": {
            "text/html": [
              "<div>\n",
              "<style scoped>\n",
              "    .dataframe tbody tr th:only-of-type {\n",
              "        vertical-align: middle;\n",
              "    }\n",
              "\n",
              "    .dataframe tbody tr th {\n",
              "        vertical-align: top;\n",
              "    }\n",
              "\n",
              "    .dataframe thead th {\n",
              "        text-align: right;\n",
              "    }\n",
              "</style>\n",
              "<table border=\"1\" class=\"dataframe\">\n",
              "  <thead>\n",
              "    <tr style=\"text-align: right;\">\n",
              "      <th></th>\n",
              "      <th>InvoiceNo</th>\n",
              "      <th>StockCode</th>\n",
              "      <th>Description</th>\n",
              "      <th>Quantity</th>\n",
              "      <th>InvoiceDate</th>\n",
              "      <th>UnitPrice</th>\n",
              "      <th>CustomerID</th>\n",
              "      <th>Country</th>\n",
              "    </tr>\n",
              "  </thead>\n",
              "  <tbody>\n",
              "    <tr>\n",
              "      <th>0</th>\n",
              "      <td>536365</td>\n",
              "      <td>85123A</td>\n",
              "      <td>WHITE HANGING HEART T-LIGHT HOLDER</td>\n",
              "      <td>6</td>\n",
              "      <td>2010-12-01 08:26:00</td>\n",
              "      <td>2.55</td>\n",
              "      <td>17850.0</td>\n",
              "      <td>United Kingdom</td>\n",
              "    </tr>\n",
              "    <tr>\n",
              "      <th>1</th>\n",
              "      <td>536365</td>\n",
              "      <td>71053</td>\n",
              "      <td>WHITE METAL LANTERN</td>\n",
              "      <td>6</td>\n",
              "      <td>2010-12-01 08:26:00</td>\n",
              "      <td>3.39</td>\n",
              "      <td>17850.0</td>\n",
              "      <td>United Kingdom</td>\n",
              "    </tr>\n",
              "    <tr>\n",
              "      <th>2</th>\n",
              "      <td>536365</td>\n",
              "      <td>84406B</td>\n",
              "      <td>CREAM CUPID HEARTS COAT HANGER</td>\n",
              "      <td>8</td>\n",
              "      <td>2010-12-01 08:26:00</td>\n",
              "      <td>2.75</td>\n",
              "      <td>17850.0</td>\n",
              "      <td>United Kingdom</td>\n",
              "    </tr>\n",
              "    <tr>\n",
              "      <th>3</th>\n",
              "      <td>536365</td>\n",
              "      <td>84029G</td>\n",
              "      <td>KNITTED UNION FLAG HOT WATER BOTTLE</td>\n",
              "      <td>6</td>\n",
              "      <td>2010-12-01 08:26:00</td>\n",
              "      <td>3.39</td>\n",
              "      <td>17850.0</td>\n",
              "      <td>United Kingdom</td>\n",
              "    </tr>\n",
              "    <tr>\n",
              "      <th>4</th>\n",
              "      <td>536365</td>\n",
              "      <td>84029E</td>\n",
              "      <td>RED WOOLLY HOTTIE WHITE HEART.</td>\n",
              "      <td>6</td>\n",
              "      <td>2010-12-01 08:26:00</td>\n",
              "      <td>3.39</td>\n",
              "      <td>17850.0</td>\n",
              "      <td>United Kingdom</td>\n",
              "    </tr>\n",
              "    <tr>\n",
              "      <th>...</th>\n",
              "      <td>...</td>\n",
              "      <td>...</td>\n",
              "      <td>...</td>\n",
              "      <td>...</td>\n",
              "      <td>...</td>\n",
              "      <td>...</td>\n",
              "      <td>...</td>\n",
              "      <td>...</td>\n",
              "    </tr>\n",
              "    <tr>\n",
              "      <th>541904</th>\n",
              "      <td>581587</td>\n",
              "      <td>22613</td>\n",
              "      <td>PACK OF 20 SPACEBOY NAPKINS</td>\n",
              "      <td>12</td>\n",
              "      <td>2011-12-09 12:50:00</td>\n",
              "      <td>0.85</td>\n",
              "      <td>12680.0</td>\n",
              "      <td>France</td>\n",
              "    </tr>\n",
              "    <tr>\n",
              "      <th>541905</th>\n",
              "      <td>581587</td>\n",
              "      <td>22899</td>\n",
              "      <td>CHILDREN'S APRON DOLLY GIRL</td>\n",
              "      <td>6</td>\n",
              "      <td>2011-12-09 12:50:00</td>\n",
              "      <td>2.10</td>\n",
              "      <td>12680.0</td>\n",
              "      <td>France</td>\n",
              "    </tr>\n",
              "    <tr>\n",
              "      <th>541906</th>\n",
              "      <td>581587</td>\n",
              "      <td>23254</td>\n",
              "      <td>CHILDRENS CUTLERY DOLLY GIRL</td>\n",
              "      <td>4</td>\n",
              "      <td>2011-12-09 12:50:00</td>\n",
              "      <td>4.15</td>\n",
              "      <td>12680.0</td>\n",
              "      <td>France</td>\n",
              "    </tr>\n",
              "    <tr>\n",
              "      <th>541907</th>\n",
              "      <td>581587</td>\n",
              "      <td>23255</td>\n",
              "      <td>CHILDRENS CUTLERY CIRCUS PARADE</td>\n",
              "      <td>4</td>\n",
              "      <td>2011-12-09 12:50:00</td>\n",
              "      <td>4.15</td>\n",
              "      <td>12680.0</td>\n",
              "      <td>France</td>\n",
              "    </tr>\n",
              "    <tr>\n",
              "      <th>541908</th>\n",
              "      <td>581587</td>\n",
              "      <td>22138</td>\n",
              "      <td>BAKING SET 9 PIECE RETROSPOT</td>\n",
              "      <td>3</td>\n",
              "      <td>2011-12-09 12:50:00</td>\n",
              "      <td>4.95</td>\n",
              "      <td>12680.0</td>\n",
              "      <td>France</td>\n",
              "    </tr>\n",
              "  </tbody>\n",
              "</table>\n",
              "<p>532621 rows × 8 columns</p>\n",
              "</div>"
            ],
            "text/plain": [
              "       InvoiceNo StockCode  ... CustomerID         Country\n",
              "0         536365    85123A  ...    17850.0  United Kingdom\n",
              "1         536365     71053  ...    17850.0  United Kingdom\n",
              "2         536365    84406B  ...    17850.0  United Kingdom\n",
              "3         536365    84029G  ...    17850.0  United Kingdom\n",
              "4         536365    84029E  ...    17850.0  United Kingdom\n",
              "...          ...       ...  ...        ...             ...\n",
              "541904    581587     22613  ...    12680.0          France\n",
              "541905    581587     22899  ...    12680.0          France\n",
              "541906    581587     23254  ...    12680.0          France\n",
              "541907    581587     23255  ...    12680.0          France\n",
              "541908    581587     22138  ...    12680.0          France\n",
              "\n",
              "[532621 rows x 8 columns]"
            ]
          },
          "metadata": {
            "tags": []
          },
          "execution_count": 4
        }
      ]
    },
    {
      "cell_type": "code",
      "metadata": {
        "id": "gWAleRB8Bh3f"
      },
      "source": [
        "# Generating basket the Apriori algorithm will use \n",
        "\n",
        "france_basket = (online_ret_ds[online_ret_ds['Country']==\"France\"].groupby(['InvoiceNo', 'Description'])['Quantity'].sum().unstack().reset_index().fillna(0).set_index('InvoiceNo'))\n",
        "france_basket"
      ],
      "execution_count": null,
      "outputs": []
    },
    {
      "cell_type": "code",
      "metadata": {
        "id": "S4HjDVt7w92l"
      },
      "source": [
        "# Encoding the dataset to a format readable by the Apriori algorithm (following code courtesy of edureka (https://www.youtube.com/channel/UCkw4JCwteGrDHIsyIIKo4tQ))\n",
        "\n",
        "def encode_units(x):\n",
        "  if x <= 0:\n",
        "    return 0\n",
        "  elif x >= 1:\n",
        "    return 1\n",
        "basket_sets = france_basket.applymap(encode_units)\n",
        "basket_sets.drop('POSTAGE', inplace=True, axis=1)\n",
        "basket_sets"
      ],
      "execution_count": null,
      "outputs": []
    },
    {
      "cell_type": "code",
      "metadata": {
        "colab": {
          "base_uri": "https://localhost:8080/"
        },
        "id": "U3gkM6MQ3ntd",
        "outputId": "41e45a61-9978-45cc-bd0f-d730df805706"
      },
      "source": [
        "# Determining the itemset w/ the largest support\n",
        "\n",
        "france_isets = apriori(basket_sets, min_support=0.05, use_colnames=True)\n",
        "france_isets.max()"
      ],
      "execution_count": null,
      "outputs": [
        {
          "output_type": "execute_result",
          "data": {
            "text/plain": [
              "support                                              0.188776\n",
              "itemsets    (SET/6 RED SPOTTY PAPER PLATES, SET/6 RED SPOT...\n",
              "dtype: object"
            ]
          },
          "metadata": {
            "tags": []
          },
          "execution_count": 7
        }
      ]
    },
    {
      "cell_type": "code",
      "metadata": {
        "colab": {
          "base_uri": "https://localhost:8080/",
          "height": 296
        },
        "id": "mlPFocdn8QXU",
        "outputId": "e1bdc294-b6a5-4824-8c0c-715f07b5be06"
      },
      "source": [
        "# Using the association_rules module\n",
        "\n",
        "asso_rules = association_rules(france_isets)\n",
        "asso_rules.head()"
      ],
      "execution_count": null,
      "outputs": [
        {
          "output_type": "execute_result",
          "data": {
            "text/html": [
              "<div>\n",
              "<style scoped>\n",
              "    .dataframe tbody tr th:only-of-type {\n",
              "        vertical-align: middle;\n",
              "    }\n",
              "\n",
              "    .dataframe tbody tr th {\n",
              "        vertical-align: top;\n",
              "    }\n",
              "\n",
              "    .dataframe thead th {\n",
              "        text-align: right;\n",
              "    }\n",
              "</style>\n",
              "<table border=\"1\" class=\"dataframe\">\n",
              "  <thead>\n",
              "    <tr style=\"text-align: right;\">\n",
              "      <th></th>\n",
              "      <th>antecedents</th>\n",
              "      <th>consequents</th>\n",
              "      <th>antecedent support</th>\n",
              "      <th>consequent support</th>\n",
              "      <th>support</th>\n",
              "      <th>confidence</th>\n",
              "      <th>lift</th>\n",
              "      <th>leverage</th>\n",
              "      <th>conviction</th>\n",
              "    </tr>\n",
              "  </thead>\n",
              "  <tbody>\n",
              "    <tr>\n",
              "      <th>0</th>\n",
              "      <td>(ALARM CLOCK BAKELIKE RED)</td>\n",
              "      <td>(ALARM CLOCK BAKELIKE GREEN)</td>\n",
              "      <td>0.094388</td>\n",
              "      <td>0.096939</td>\n",
              "      <td>0.079082</td>\n",
              "      <td>0.837838</td>\n",
              "      <td>8.642959</td>\n",
              "      <td>0.069932</td>\n",
              "      <td>5.568878</td>\n",
              "    </tr>\n",
              "    <tr>\n",
              "      <th>1</th>\n",
              "      <td>(ALARM CLOCK BAKELIKE GREEN)</td>\n",
              "      <td>(ALARM CLOCK BAKELIKE RED)</td>\n",
              "      <td>0.096939</td>\n",
              "      <td>0.094388</td>\n",
              "      <td>0.079082</td>\n",
              "      <td>0.815789</td>\n",
              "      <td>8.642959</td>\n",
              "      <td>0.069932</td>\n",
              "      <td>4.916181</td>\n",
              "    </tr>\n",
              "    <tr>\n",
              "      <th>2</th>\n",
              "      <td>(CHILDRENS CUTLERY DOLLY GIRL)</td>\n",
              "      <td>(CHILDRENS CUTLERY SPACEBOY)</td>\n",
              "      <td>0.071429</td>\n",
              "      <td>0.068878</td>\n",
              "      <td>0.063776</td>\n",
              "      <td>0.892857</td>\n",
              "      <td>12.962963</td>\n",
              "      <td>0.058856</td>\n",
              "      <td>8.690476</td>\n",
              "    </tr>\n",
              "    <tr>\n",
              "      <th>3</th>\n",
              "      <td>(CHILDRENS CUTLERY SPACEBOY)</td>\n",
              "      <td>(CHILDRENS CUTLERY DOLLY GIRL)</td>\n",
              "      <td>0.068878</td>\n",
              "      <td>0.071429</td>\n",
              "      <td>0.063776</td>\n",
              "      <td>0.925926</td>\n",
              "      <td>12.962963</td>\n",
              "      <td>0.058856</td>\n",
              "      <td>12.535714</td>\n",
              "    </tr>\n",
              "    <tr>\n",
              "      <th>4</th>\n",
              "      <td>(PACK OF 6 SKULL PAPER CUPS)</td>\n",
              "      <td>(PACK OF 6 SKULL PAPER PLATES)</td>\n",
              "      <td>0.063776</td>\n",
              "      <td>0.056122</td>\n",
              "      <td>0.051020</td>\n",
              "      <td>0.800000</td>\n",
              "      <td>14.254545</td>\n",
              "      <td>0.047441</td>\n",
              "      <td>4.719388</td>\n",
              "    </tr>\n",
              "  </tbody>\n",
              "</table>\n",
              "</div>"
            ],
            "text/plain": [
              "                      antecedents  ... conviction\n",
              "0      (ALARM CLOCK BAKELIKE RED)  ...   5.568878\n",
              "1    (ALARM CLOCK BAKELIKE GREEN)  ...   4.916181\n",
              "2  (CHILDRENS CUTLERY DOLLY GIRL)  ...   8.690476\n",
              "3    (CHILDRENS CUTLERY SPACEBOY)  ...  12.535714\n",
              "4    (PACK OF 6 SKULL PAPER CUPS)  ...   4.719388\n",
              "\n",
              "[5 rows x 9 columns]"
            ]
          },
          "metadata": {
            "tags": []
          },
          "execution_count": 8
        }
      ]
    },
    {
      "cell_type": "code",
      "metadata": {
        "colab": {
          "base_uri": "https://localhost:8080/",
          "height": 157
        },
        "id": "ky__zGQ0-NVj",
        "outputId": "41f8af70-ed8b-4095-88da-5f8d99cc7ba9"
      },
      "source": [
        "# Determining the rule w/ the highest confidence\n",
        "\n",
        "asso_rules[asso_rules['confidence']==asso_rules['confidence'].max()]"
      ],
      "execution_count": null,
      "outputs": [
        {
          "output_type": "execute_result",
          "data": {
            "text/html": [
              "<div>\n",
              "<style scoped>\n",
              "    .dataframe tbody tr th:only-of-type {\n",
              "        vertical-align: middle;\n",
              "    }\n",
              "\n",
              "    .dataframe tbody tr th {\n",
              "        vertical-align: top;\n",
              "    }\n",
              "\n",
              "    .dataframe thead th {\n",
              "        text-align: right;\n",
              "    }\n",
              "</style>\n",
              "<table border=\"1\" class=\"dataframe\">\n",
              "  <thead>\n",
              "    <tr style=\"text-align: right;\">\n",
              "      <th></th>\n",
              "      <th>antecedents</th>\n",
              "      <th>consequents</th>\n",
              "      <th>antecedent support</th>\n",
              "      <th>consequent support</th>\n",
              "      <th>support</th>\n",
              "      <th>confidence</th>\n",
              "      <th>lift</th>\n",
              "      <th>leverage</th>\n",
              "      <th>conviction</th>\n",
              "    </tr>\n",
              "  </thead>\n",
              "  <tbody>\n",
              "    <tr>\n",
              "      <th>13</th>\n",
              "      <td>(SET/6 RED SPOTTY PAPER PLATES, SET/20 RED RET...</td>\n",
              "      <td>(SET/6 RED SPOTTY PAPER CUPS)</td>\n",
              "      <td>0.102041</td>\n",
              "      <td>0.137755</td>\n",
              "      <td>0.09949</td>\n",
              "      <td>0.975</td>\n",
              "      <td>7.077778</td>\n",
              "      <td>0.085433</td>\n",
              "      <td>34.489796</td>\n",
              "    </tr>\n",
              "    <tr>\n",
              "      <th>14</th>\n",
              "      <td>(SET/20 RED RETROSPOT PAPER NAPKINS, SET/6 RED...</td>\n",
              "      <td>(SET/6 RED SPOTTY PAPER PLATES)</td>\n",
              "      <td>0.102041</td>\n",
              "      <td>0.127551</td>\n",
              "      <td>0.09949</td>\n",
              "      <td>0.975</td>\n",
              "      <td>7.644000</td>\n",
              "      <td>0.086474</td>\n",
              "      <td>34.897959</td>\n",
              "    </tr>\n",
              "  </tbody>\n",
              "</table>\n",
              "</div>"
            ],
            "text/plain": [
              "                                          antecedents  ... conviction\n",
              "13  (SET/6 RED SPOTTY PAPER PLATES, SET/20 RED RET...  ...  34.489796\n",
              "14  (SET/20 RED RETROSPOT PAPER NAPKINS, SET/6 RED...  ...  34.897959\n",
              "\n",
              "[2 rows x 9 columns]"
            ]
          },
          "metadata": {
            "tags": []
          },
          "execution_count": 9
        }
      ]
    },
    {
      "cell_type": "code",
      "metadata": {
        "colab": {
          "base_uri": "https://localhost:8080/",
          "height": 110
        },
        "id": "q29PBEB1AUOF",
        "outputId": "632c190f-73b3-4ec9-98b1-821d6f29ed5d"
      },
      "source": [
        "# Determining the rule w/ the highest lift\n",
        "\n",
        "asso_rules[asso_rules['lift']==asso_rules['lift'].max()]"
      ],
      "execution_count": null,
      "outputs": [
        {
          "output_type": "execute_result",
          "data": {
            "text/html": [
              "<div>\n",
              "<style scoped>\n",
              "    .dataframe tbody tr th:only-of-type {\n",
              "        vertical-align: middle;\n",
              "    }\n",
              "\n",
              "    .dataframe tbody tr th {\n",
              "        vertical-align: top;\n",
              "    }\n",
              "\n",
              "    .dataframe thead th {\n",
              "        text-align: right;\n",
              "    }\n",
              "</style>\n",
              "<table border=\"1\" class=\"dataframe\">\n",
              "  <thead>\n",
              "    <tr style=\"text-align: right;\">\n",
              "      <th></th>\n",
              "      <th>antecedents</th>\n",
              "      <th>consequents</th>\n",
              "      <th>antecedent support</th>\n",
              "      <th>consequent support</th>\n",
              "      <th>support</th>\n",
              "      <th>confidence</th>\n",
              "      <th>lift</th>\n",
              "      <th>leverage</th>\n",
              "      <th>conviction</th>\n",
              "    </tr>\n",
              "  </thead>\n",
              "  <tbody>\n",
              "    <tr>\n",
              "      <th>4</th>\n",
              "      <td>(PACK OF 6 SKULL PAPER CUPS)</td>\n",
              "      <td>(PACK OF 6 SKULL PAPER PLATES)</td>\n",
              "      <td>0.063776</td>\n",
              "      <td>0.056122</td>\n",
              "      <td>0.05102</td>\n",
              "      <td>0.8</td>\n",
              "      <td>14.254545</td>\n",
              "      <td>0.047441</td>\n",
              "      <td>4.719388</td>\n",
              "    </tr>\n",
              "  </tbody>\n",
              "</table>\n",
              "</div>"
            ],
            "text/plain": [
              "                    antecedents  ... conviction\n",
              "4  (PACK OF 6 SKULL PAPER CUPS)  ...   4.719388\n",
              "\n",
              "[1 rows x 9 columns]"
            ]
          },
          "metadata": {
            "tags": []
          },
          "execution_count": 10
        }
      ]
    },
    {
      "cell_type": "code",
      "metadata": {
        "id": "hREFeqgGEppE"
      },
      "source": [
        "# Problem 1 (End)"
      ],
      "execution_count": null,
      "outputs": []
    },
    {
      "cell_type": "code",
      "metadata": {
        "id": "yiZ87UAzEtOr"
      },
      "source": [
        "# Problem 2 (Start)"
      ],
      "execution_count": null,
      "outputs": []
    },
    {
      "cell_type": "code",
      "metadata": {
        "id": "F9gBlD_A4CRd"
      },
      "source": [
        "# Loading the Extended Bakery dataset using a Pandas dataframe\n",
        "\n",
        "bakery_ds = pd.read_csv('75000-out2-binary.csv')\n",
        "bakery_ds.head()"
      ],
      "execution_count": null,
      "outputs": []
    },
    {
      "cell_type": "code",
      "metadata": {
        "id": "UOIpJyKfOqTL"
      },
      "source": [
        "# Computing f11\n",
        "\n",
        "bakery_ds[(bakery_ds['Chocolate Cake']==1) & (bakery_ds['Chocolate Coffee']==1)] # f11 = # of rows; f11 = 3303"
      ],
      "execution_count": null,
      "outputs": []
    },
    {
      "cell_type": "code",
      "metadata": {
        "id": "8lwE18JoRhZZ"
      },
      "source": [
        "# Computing f00\n",
        "\n",
        "bakery_ds[(bakery_ds['Chocolate Cake']==0) & (bakery_ds['Chocolate Coffee']==0)] # f00 = # of rows; f00 = 65802"
      ],
      "execution_count": null,
      "outputs": []
    },
    {
      "cell_type": "code",
      "metadata": {
        "id": "juSZ8dMpRhto"
      },
      "source": [
        "# Computing f01\n",
        "\n",
        "bakery_ds[(bakery_ds['Chocolate Cake']==0) & (bakery_ds['Chocolate Coffee']==1)] # f01 = # of rows; f01 = 2933"
      ],
      "execution_count": null,
      "outputs": []
    },
    {
      "cell_type": "code",
      "metadata": {
        "id": "mEWaxcwyRhvm"
      },
      "source": [
        "# Computing f10\n",
        "\n",
        "bakery_ds[(bakery_ds['Chocolate Cake']==1) & (bakery_ds['Chocolate Coffee']==0)] # f10 = # of rows; f10 = 2962"
      ],
      "execution_count": null,
      "outputs": []
    },
    {
      "cell_type": "code",
      "metadata": {
        "id": "e0NvWP0wegdJ"
      },
      "source": [
        "# Problem 2 (End)"
      ],
      "execution_count": null,
      "outputs": []
    }
  ]
}