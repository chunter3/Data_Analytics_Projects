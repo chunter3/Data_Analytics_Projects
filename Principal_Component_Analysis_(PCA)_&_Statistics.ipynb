{
  "nbformat": 4,
  "nbformat_minor": 0,
  "metadata": {
    "colab": {
      "name": "Principal Component Analysis (PCA) & Statistics",
      "provenance": [],
      "collapsed_sections": [],
      "authorship_tag": "ABX9TyOWyI2gGMNqGVuwuHiQipYP",
      "include_colab_link": true
    },
    "kernelspec": {
      "name": "python3",
      "display_name": "Python 3"
    }
  },
  "cells": [
    {
      "cell_type": "markdown",
      "metadata": {
        "id": "view-in-github",
        "colab_type": "text"
      },
      "source": [
        "<a href=\"https://colab.research.google.com/github/chunter3/Data_Analytics_Projects/blob/master/Principal_Component_Analysis_(PCA)_%26_Statistics.ipynb\" target=\"_parent\"><img src=\"https://colab.research.google.com/assets/colab-badge.svg\" alt=\"Open In Colab\"/></a>"
      ]
    },
    {
      "cell_type": "code",
      "metadata": {
        "id": "CrpzoHDeIzyT"
      },
      "source": [
        "import numpy as np\n",
        "import pandas as pd\n",
        "import seaborn as sns\n",
        "import matplotlib.pyplot as plt\n",
        "from scipy.cluster import hierarchy\n",
        "\n",
        "%matplotlib inline"
      ],
      "execution_count": null,
      "outputs": []
    },
    {
      "cell_type": "code",
      "metadata": {
        "id": "l4L4_d3PZmmM"
      },
      "source": [
        "# problem 1 (Start)"
      ],
      "execution_count": null,
      "outputs": []
    },
    {
      "cell_type": "code",
      "metadata": {
        "colab": {
          "base_uri": "https://localhost:8080/"
        },
        "id": "_CiaUXG-VDdc",
        "outputId": "945c4c9f-f825-4714-85e3-de5f37a5a94f"
      },
      "source": [
        "titanic = sns.load_dataset('titanic')\n",
        "titanic.keys()"
      ],
      "execution_count": null,
      "outputs": [
        {
          "output_type": "execute_result",
          "data": {
            "text/plain": [
              "Index(['survived', 'pclass', 'sex', 'age', 'sibsp', 'parch', 'fare',\n",
              "       'embarked', 'class', 'who', 'adult_male', 'deck', 'embark_town',\n",
              "       'alive', 'alone'],\n",
              "      dtype='object')"
            ]
          },
          "metadata": {
            "tags": []
          },
          "execution_count": 5
        }
      ]
    },
    {
      "cell_type": "code",
      "metadata": {
        "colab": {
          "base_uri": "https://localhost:8080/",
          "height": 195
        },
        "id": "96J3iJk3qIaK",
        "outputId": "85ad6683-1b66-461e-bd08-e212699c4b8e"
      },
      "source": [
        "titanic.head()"
      ],
      "execution_count": null,
      "outputs": [
        {
          "output_type": "execute_result",
          "data": {
            "text/html": [
              "<div>\n",
              "<style scoped>\n",
              "    .dataframe tbody tr th:only-of-type {\n",
              "        vertical-align: middle;\n",
              "    }\n",
              "\n",
              "    .dataframe tbody tr th {\n",
              "        vertical-align: top;\n",
              "    }\n",
              "\n",
              "    .dataframe thead th {\n",
              "        text-align: right;\n",
              "    }\n",
              "</style>\n",
              "<table border=\"1\" class=\"dataframe\">\n",
              "  <thead>\n",
              "    <tr style=\"text-align: right;\">\n",
              "      <th></th>\n",
              "      <th>survived</th>\n",
              "      <th>pclass</th>\n",
              "      <th>sex</th>\n",
              "      <th>age</th>\n",
              "      <th>sibsp</th>\n",
              "      <th>parch</th>\n",
              "      <th>fare</th>\n",
              "      <th>embarked</th>\n",
              "      <th>class</th>\n",
              "      <th>who</th>\n",
              "      <th>adult_male</th>\n",
              "      <th>deck</th>\n",
              "      <th>embark_town</th>\n",
              "      <th>alive</th>\n",
              "      <th>alone</th>\n",
              "    </tr>\n",
              "  </thead>\n",
              "  <tbody>\n",
              "    <tr>\n",
              "      <th>0</th>\n",
              "      <td>0</td>\n",
              "      <td>3</td>\n",
              "      <td>male</td>\n",
              "      <td>22.0</td>\n",
              "      <td>1</td>\n",
              "      <td>0</td>\n",
              "      <td>7.2500</td>\n",
              "      <td>S</td>\n",
              "      <td>Third</td>\n",
              "      <td>man</td>\n",
              "      <td>True</td>\n",
              "      <td>NaN</td>\n",
              "      <td>Southampton</td>\n",
              "      <td>no</td>\n",
              "      <td>False</td>\n",
              "    </tr>\n",
              "    <tr>\n",
              "      <th>1</th>\n",
              "      <td>1</td>\n",
              "      <td>1</td>\n",
              "      <td>female</td>\n",
              "      <td>38.0</td>\n",
              "      <td>1</td>\n",
              "      <td>0</td>\n",
              "      <td>71.2833</td>\n",
              "      <td>C</td>\n",
              "      <td>First</td>\n",
              "      <td>woman</td>\n",
              "      <td>False</td>\n",
              "      <td>C</td>\n",
              "      <td>Cherbourg</td>\n",
              "      <td>yes</td>\n",
              "      <td>False</td>\n",
              "    </tr>\n",
              "    <tr>\n",
              "      <th>2</th>\n",
              "      <td>1</td>\n",
              "      <td>3</td>\n",
              "      <td>female</td>\n",
              "      <td>26.0</td>\n",
              "      <td>0</td>\n",
              "      <td>0</td>\n",
              "      <td>7.9250</td>\n",
              "      <td>S</td>\n",
              "      <td>Third</td>\n",
              "      <td>woman</td>\n",
              "      <td>False</td>\n",
              "      <td>NaN</td>\n",
              "      <td>Southampton</td>\n",
              "      <td>yes</td>\n",
              "      <td>True</td>\n",
              "    </tr>\n",
              "    <tr>\n",
              "      <th>3</th>\n",
              "      <td>1</td>\n",
              "      <td>1</td>\n",
              "      <td>female</td>\n",
              "      <td>35.0</td>\n",
              "      <td>1</td>\n",
              "      <td>0</td>\n",
              "      <td>53.1000</td>\n",
              "      <td>S</td>\n",
              "      <td>First</td>\n",
              "      <td>woman</td>\n",
              "      <td>False</td>\n",
              "      <td>C</td>\n",
              "      <td>Southampton</td>\n",
              "      <td>yes</td>\n",
              "      <td>False</td>\n",
              "    </tr>\n",
              "    <tr>\n",
              "      <th>4</th>\n",
              "      <td>0</td>\n",
              "      <td>3</td>\n",
              "      <td>male</td>\n",
              "      <td>35.0</td>\n",
              "      <td>0</td>\n",
              "      <td>0</td>\n",
              "      <td>8.0500</td>\n",
              "      <td>S</td>\n",
              "      <td>Third</td>\n",
              "      <td>man</td>\n",
              "      <td>True</td>\n",
              "      <td>NaN</td>\n",
              "      <td>Southampton</td>\n",
              "      <td>no</td>\n",
              "      <td>True</td>\n",
              "    </tr>\n",
              "  </tbody>\n",
              "</table>\n",
              "</div>"
            ],
            "text/plain": [
              "   survived  pclass     sex   age  ...  deck  embark_town  alive  alone\n",
              "0         0       3    male  22.0  ...   NaN  Southampton     no  False\n",
              "1         1       1  female  38.0  ...     C    Cherbourg    yes  False\n",
              "2         1       3  female  26.0  ...   NaN  Southampton    yes   True\n",
              "3         1       1  female  35.0  ...     C  Southampton    yes  False\n",
              "4         0       3    male  35.0  ...   NaN  Southampton     no   True\n",
              "\n",
              "[5 rows x 15 columns]"
            ]
          },
          "metadata": {
            "tags": []
          },
          "execution_count": 6
        }
      ]
    },
    {
      "cell_type": "code",
      "metadata": {
        "colab": {
          "base_uri": "https://localhost:8080/",
          "height": 284
        },
        "id": "LC7QrEcWqYjZ",
        "outputId": "69054bb7-2e07-48ee-93a1-9193a9c51b08"
      },
      "source": [
        "titanic.describe()"
      ],
      "execution_count": null,
      "outputs": [
        {
          "output_type": "execute_result",
          "data": {
            "text/html": [
              "<div>\n",
              "<style scoped>\n",
              "    .dataframe tbody tr th:only-of-type {\n",
              "        vertical-align: middle;\n",
              "    }\n",
              "\n",
              "    .dataframe tbody tr th {\n",
              "        vertical-align: top;\n",
              "    }\n",
              "\n",
              "    .dataframe thead th {\n",
              "        text-align: right;\n",
              "    }\n",
              "</style>\n",
              "<table border=\"1\" class=\"dataframe\">\n",
              "  <thead>\n",
              "    <tr style=\"text-align: right;\">\n",
              "      <th></th>\n",
              "      <th>survived</th>\n",
              "      <th>pclass</th>\n",
              "      <th>age</th>\n",
              "      <th>sibsp</th>\n",
              "      <th>parch</th>\n",
              "      <th>fare</th>\n",
              "    </tr>\n",
              "  </thead>\n",
              "  <tbody>\n",
              "    <tr>\n",
              "      <th>count</th>\n",
              "      <td>891.000000</td>\n",
              "      <td>891.000000</td>\n",
              "      <td>714.000000</td>\n",
              "      <td>891.000000</td>\n",
              "      <td>891.000000</td>\n",
              "      <td>891.000000</td>\n",
              "    </tr>\n",
              "    <tr>\n",
              "      <th>mean</th>\n",
              "      <td>0.383838</td>\n",
              "      <td>2.308642</td>\n",
              "      <td>29.699118</td>\n",
              "      <td>0.523008</td>\n",
              "      <td>0.381594</td>\n",
              "      <td>32.204208</td>\n",
              "    </tr>\n",
              "    <tr>\n",
              "      <th>std</th>\n",
              "      <td>0.486592</td>\n",
              "      <td>0.836071</td>\n",
              "      <td>14.526497</td>\n",
              "      <td>1.102743</td>\n",
              "      <td>0.806057</td>\n",
              "      <td>49.693429</td>\n",
              "    </tr>\n",
              "    <tr>\n",
              "      <th>min</th>\n",
              "      <td>0.000000</td>\n",
              "      <td>1.000000</td>\n",
              "      <td>0.420000</td>\n",
              "      <td>0.000000</td>\n",
              "      <td>0.000000</td>\n",
              "      <td>0.000000</td>\n",
              "    </tr>\n",
              "    <tr>\n",
              "      <th>25%</th>\n",
              "      <td>0.000000</td>\n",
              "      <td>2.000000</td>\n",
              "      <td>20.125000</td>\n",
              "      <td>0.000000</td>\n",
              "      <td>0.000000</td>\n",
              "      <td>7.910400</td>\n",
              "    </tr>\n",
              "    <tr>\n",
              "      <th>50%</th>\n",
              "      <td>0.000000</td>\n",
              "      <td>3.000000</td>\n",
              "      <td>28.000000</td>\n",
              "      <td>0.000000</td>\n",
              "      <td>0.000000</td>\n",
              "      <td>14.454200</td>\n",
              "    </tr>\n",
              "    <tr>\n",
              "      <th>75%</th>\n",
              "      <td>1.000000</td>\n",
              "      <td>3.000000</td>\n",
              "      <td>38.000000</td>\n",
              "      <td>1.000000</td>\n",
              "      <td>0.000000</td>\n",
              "      <td>31.000000</td>\n",
              "    </tr>\n",
              "    <tr>\n",
              "      <th>max</th>\n",
              "      <td>1.000000</td>\n",
              "      <td>3.000000</td>\n",
              "      <td>80.000000</td>\n",
              "      <td>8.000000</td>\n",
              "      <td>6.000000</td>\n",
              "      <td>512.329200</td>\n",
              "    </tr>\n",
              "  </tbody>\n",
              "</table>\n",
              "</div>"
            ],
            "text/plain": [
              "         survived      pclass         age       sibsp       parch        fare\n",
              "count  891.000000  891.000000  714.000000  891.000000  891.000000  891.000000\n",
              "mean     0.383838    2.308642   29.699118    0.523008    0.381594   32.204208\n",
              "std      0.486592    0.836071   14.526497    1.102743    0.806057   49.693429\n",
              "min      0.000000    1.000000    0.420000    0.000000    0.000000    0.000000\n",
              "25%      0.000000    2.000000   20.125000    0.000000    0.000000    7.910400\n",
              "50%      0.000000    3.000000   28.000000    0.000000    0.000000   14.454200\n",
              "75%      1.000000    3.000000   38.000000    1.000000    0.000000   31.000000\n",
              "max      1.000000    3.000000   80.000000    8.000000    6.000000  512.329200"
            ]
          },
          "metadata": {
            "tags": []
          },
          "execution_count": 7
        }
      ]
    },
    {
      "cell_type": "code",
      "metadata": {
        "colab": {
          "base_uri": "https://localhost:8080/",
          "height": 312
        },
        "id": "AdrDWwZWQ66Y",
        "outputId": "8cbca6e8-5361-431e-e2c9-7b4206aad40e"
      },
      "source": [
        "\n",
        "male = titanic[titanic['sex']=='male']\n",
        "female = titanic[titanic['sex']=='female']\n",
        "\n",
        "survival_axis = sns.histplot(male[male['survived']==1].age.dropna(), bins=10, label='Male', color='blue', alpha=0.3)\n",
        "survival_axis = sns.histplot(female[female['survived']==1].age.dropna(), bins=10, label=\"Female\", color='green', alpha=0.3)\n",
        "survival_axis.legend()\n",
        "survival_axis.set(xlabel='Age', ylabel='Number of Survivors')\n",
        "survival_axis.set_title('Survival on the Titanic')\n"
      ],
      "execution_count": null,
      "outputs": [
        {
          "output_type": "execute_result",
          "data": {
            "text/plain": [
              "Text(0.5, 1.0, 'Survival on the Titanic')"
            ]
          },
          "metadata": {
            "tags": []
          },
          "execution_count": 6
        },
        {
          "output_type": "display_data",
          "data": {
            "image/png": "[encoded data removed]",
            "text/plain": [
              "<Figure size 432x288 with 1 Axes>"
            ]
          },
          "metadata": {
            "tags": [],
            "needs_background": "light"
          }
        }
      ]
    },
    {
      "cell_type": "code",
      "metadata": {
        "id": "ku-DWk1aazSu"
      },
      "source": [
        "# Problem 1 (End)"
      ],
      "execution_count": null,
      "outputs": []
    },
    {
      "cell_type": "code",
      "metadata": {
        "id": "zoajPhwdbLGV"
      },
      "source": [
        "# Problem 2 (Start)"
      ],
      "execution_count": null,
      "outputs": []
    },
    {
      "cell_type": "code",
      "metadata": {
        "colab": {
          "base_uri": "https://localhost:8080/",
          "height": 185
        },
        "id": "VzSu55PKbOv7",
        "outputId": "00e8106c-815d-4f44-954d-6d447b32ea41"
      },
      "source": [
        "from sklearn.impute import SimpleImputer\n",
        "\n",
        "auto_dataset_cols = ['mpg', 'cylinders', 'displacement', 'horsepower', 'weight', 'acceleration', 'model year', 'origin', 'car name']\n",
        "auto_dataset = pd.read_csv('auto-mpg.data', delim_whitespace=True, header=None, names=auto_dataset_cols)\n",
        "\n",
        "imputer = SimpleImputer(missing_values='?', strategy='constant', fill_value=np.nan)\n",
        "imputer = imputer.fit(auto_dataset)\n",
        "\n",
        "auto_dataset = imputer.transform(auto_dataset)\n",
        "\n",
        "auto_dataset = pd.DataFrame(auto_dataset, columns=auto_dataset_cols) \n",
        "\n",
        "display(auto_dataset.iloc[32]) # Line 32 is the first instance of '?' in the horsepower column; '?' has been changed to 'NaN'\n"
      ],
      "execution_count": null,
      "outputs": [
        {
          "output_type": "display_data",
          "data": {
            "text/plain": [
              "mpg                     25\n",
              "cylinders                4\n",
              "displacement            98\n",
              "horsepower             NaN\n",
              "weight                2046\n",
              "acceleration            19\n",
              "model year              71\n",
              "origin                   1\n",
              "car name        ford pinto\n",
              "Name: 32, dtype: object"
            ]
          },
          "metadata": {
            "tags": []
          }
        }
      ]
    },
    {
      "cell_type": "code",
      "metadata": {
        "id": "hloBQg3BgT8D",
        "colab": {
          "base_uri": "https://localhost:8080/"
        },
        "outputId": "2a53c054-4a1e-45a6-ff59-74fb55a3a2a5"
      },
      "source": [
        "# mpg Summary Statistics\n",
        "\n",
        "print(\"Max mpg:\", auto_dataset['mpg'].max())\n",
        "print(\"Min mpg:\", auto_dataset['mpg'].min())\n",
        "print(\"Average mpg:\", auto_dataset['mpg'].mean())\n",
        "print(\"Median mpg:\", auto_dataset['mpg'].median())\n",
        "print(\"Std mpg:\", auto_dataset['mpg'].std())"
      ],
      "execution_count": null,
      "outputs": [
        {
          "output_type": "stream",
          "text": [
            "Max mpg: 46.6\n",
            "Min mpg: 9.0\n",
            "Average mpg: 23.514572864321615\n",
            "Median mpg: 23.0\n",
            "Std mpg: 7.815984312565782\n"
          ],
          "name": "stdout"
        }
      ]
    },
    {
      "cell_type": "code",
      "metadata": {
        "colab": {
          "base_uri": "https://localhost:8080/"
        },
        "id": "bIuQR8X7-Ib1",
        "outputId": "fd4efeff-0cbe-4c53-b86d-adf506c17def"
      },
      "source": [
        "# Cylinders Summary Statistics\n",
        "\n",
        "print(\"Max cylinder:\", auto_dataset['cylinders'].max())\n",
        "print(\"Min cylinder:\", auto_dataset['cylinders'].min())\n",
        "print(\"Average cylinder:\", auto_dataset['cylinders'].mean())\n",
        "print(\"Median cylinder:\", auto_dataset['cylinders'].median())\n",
        "print(\"Std cylinder:\", auto_dataset['cylinders'].std())"
      ],
      "execution_count": null,
      "outputs": [
        {
          "output_type": "stream",
          "text": [
            "Max cylinder: 8\n",
            "Min cylinder: 3\n",
            "Average cylinder: 5.454773869346734\n",
            "Median cylinder: 4.0\n",
            "Std cylinder: 1.7010042445332119\n"
          ],
          "name": "stdout"
        }
      ]
    },
    {
      "cell_type": "code",
      "metadata": {
        "colab": {
          "base_uri": "https://localhost:8080/"
        },
        "id": "edddCQceAQSE",
        "outputId": "d731b15a-53c2-48fb-f884-30f4dc04d78b"
      },
      "source": [
        "# Displacement Summary Statistics\n",
        "\n",
        "print(\"Max displacement:\", auto_dataset['displacement'].max())\n",
        "print(\"Min displacement:\", auto_dataset['displacement'].min())\n",
        "print(\"Average displacement:\", auto_dataset['displacement'].mean())\n",
        "print(\"Median displacement:\", auto_dataset['displacement'].median())\n",
        "print(\"Std displacement:\", auto_dataset['displacement'].std())"
      ],
      "execution_count": null,
      "outputs": [
        {
          "output_type": "stream",
          "text": [
            "Max displacement: 455.0\n",
            "Min displacement: 68.0\n",
            "Average displacement: 193.42587939698493\n",
            "Median displacement: 148.5\n",
            "Std displacement: 104.26983817119591\n"
          ],
          "name": "stdout"
        }
      ]
    },
    {
      "cell_type": "code",
      "metadata": {
        "colab": {
          "base_uri": "https://localhost:8080/"
        },
        "id": "ut4QOY9qBq5U",
        "outputId": "585044fa-b96f-4fb3-e58a-525e601c7257"
      },
      "source": [
        "# Horsepower Summary Statistics\n",
        "\n",
        "auto_dataset['horsepower'] = pd.to_numeric(auto_dataset['horsepower'])\n",
        "\n",
        "print(\"Max horsepower:\", auto_dataset['horsepower'].max())\n",
        "print(\"Min horsepower:\", auto_dataset['horsepower'].min())\n",
        "print(\"Average horsepower:\", auto_dataset['horsepower'].mean())\n",
        "print(\"Median horsepower:\", auto_dataset['horsepower'].median())\n",
        "print(\"Std horsepower:\", auto_dataset['horsepower'].std())\n",
        "print(\"Mode horsepower:\", auto_dataset['horsepower'].mode())"
      ],
      "execution_count": null,
      "outputs": [
        {
          "output_type": "stream",
          "text": [
            "Max horsepower: 230.0\n",
            "Min horsepower: 46.0\n",
            "Average horsepower: 104.46938775510205\n",
            "Median horsepower: 93.5\n",
            "Std horsepower: 38.49115993282855\n",
            "Mode horsepower: 0    150.0\n",
            "dtype: float64\n"
          ],
          "name": "stdout"
        }
      ]
    },
    {
      "cell_type": "code",
      "metadata": {
        "colab": {
          "base_uri": "https://localhost:8080/"
        },
        "id": "YsTfKrEoKueY",
        "outputId": "658d60aa-0cb8-41e2-f34c-05a1ee6c2498"
      },
      "source": [
        "# Weight Summary Statistics\n",
        "\n",
        "print(\"Max weight:\", auto_dataset['weight'].max())\n",
        "print(\"Min weight:\", auto_dataset['weight'].min())\n",
        "print(\"Average weight:\", auto_dataset['weight'].mean())\n",
        "print(\"Median weight:\", auto_dataset['weight'].median())\n",
        "print(\"Std weight:\", auto_dataset['weight'].std())"
      ],
      "execution_count": null,
      "outputs": [
        {
          "output_type": "stream",
          "text": [
            "Max weight: 5140.0\n",
            "Min weight: 1613.0\n",
            "Average weight: 2970.424623115578\n",
            "Median weight: 2803.5\n",
            "Std weight: 846.8417741973268\n"
          ],
          "name": "stdout"
        }
      ]
    },
    {
      "cell_type": "code",
      "metadata": {
        "colab": {
          "base_uri": "https://localhost:8080/"
        },
        "id": "Ctq9AeNLLNVy",
        "outputId": "6890032f-5bad-49f1-bf1d-879049270ef6"
      },
      "source": [
        "# Acceleration Summary Statistics\n",
        "\n",
        "print(\"Max acceleration:\", auto_dataset['acceleration'].max())\n",
        "print(\"Min acceleration:\", auto_dataset['acceleration'].min())\n",
        "print(\"Average acceleration:\", auto_dataset['acceleration'].mean())\n",
        "print(\"Median acceleration:\", auto_dataset['acceleration'].median())\n",
        "print(\"Std acceleration:\", auto_dataset['acceleration'].std())"
      ],
      "execution_count": null,
      "outputs": [
        {
          "output_type": "stream",
          "text": [
            "Max acceleration: 24.8\n",
            "Min acceleration: 8.0\n",
            "Average acceleration: 15.568090452261291\n",
            "Median acceleration: 15.5\n",
            "Std acceleration: 2.757688929812676\n"
          ],
          "name": "stdout"
        }
      ]
    },
    {
      "cell_type": "code",
      "metadata": {
        "colab": {
          "base_uri": "https://localhost:8080/"
        },
        "id": "V23MTc_cL9MR",
        "outputId": "144b5604-fd9b-4644-e1ef-1bef84f94409"
      },
      "source": [
        "# Model Year Summary Statistics\n",
        "\n",
        "print(\"Max model year:\", auto_dataset['model year'].max())\n",
        "print(\"Min model year:\", auto_dataset['model year'].min())\n",
        "print(\"Average model year:\", auto_dataset['model year'].mean())\n",
        "print(\"Median model year:\", auto_dataset['model year'].median())\n",
        "print(\"Std model year:\", auto_dataset['model year'].std())"
      ],
      "execution_count": null,
      "outputs": [
        {
          "output_type": "stream",
          "text": [
            "Max model year: 82\n",
            "Min model year: 70\n",
            "Average model year: 76.01005025125629\n",
            "Median model year: 76.0\n",
            "Std model year: 3.697626646732623\n"
          ],
          "name": "stdout"
        }
      ]
    },
    {
      "cell_type": "code",
      "metadata": {
        "colab": {
          "base_uri": "https://localhost:8080/"
        },
        "id": "j854YNZoQ1UX",
        "outputId": "78401251-ae7c-49ba-c38d-a8a55d398b7b"
      },
      "source": [
        "# Origin Summary Statistics\n",
        "\n",
        "print(\"Max origin:\", auto_dataset['origin'].max())\n",
        "print(\"Min origin:\", auto_dataset['origin'].min())\n",
        "print(\"Average origin:\", auto_dataset['origin'].mean())\n",
        "print(\"Median origin:\", auto_dataset['origin'].median())\n",
        "print(\"Std origin:\", auto_dataset['origin'].std())"
      ],
      "execution_count": null,
      "outputs": [
        {
          "output_type": "stream",
          "text": [
            "Max origin: 3\n",
            "Min origin: 1\n",
            "Average origin: 1.5728643216080402\n",
            "Median origin: 1.0\n",
            "Std origin: 0.8020548777266148\n"
          ],
          "name": "stdout"
        }
      ]
    },
    {
      "cell_type": "code",
      "metadata": {
        "colab": {
          "base_uri": "https://localhost:8080/",
          "height": 202
        },
        "id": "1WElOBSQStga",
        "outputId": "7151c445-5ae2-4eeb-9c49-0eb6fcd51fa5"
      },
      "source": [
        "# Replacing all instances of 'NaN' in 'horsepower' with the average horsepower\n",
        "\n",
        "auto_dataset_cols = ['mpg', 'cylinders', 'displacement', 'horsepower', 'weight', 'acceleration', 'model year', 'origin', 'car name']\n",
        "auto_dataset_hpavg = pd.read_csv('auto-mpg.data', delim_whitespace=True, header=None, names=auto_dataset_cols)\n",
        "imputer = SimpleImputer(missing_values='?', strategy='constant', fill_value=np.nan)\n",
        "imputer = imputer.fit(auto_dataset_hpavg)\n",
        "auto_dataset_hpavg = imputer.transform(auto_dataset_hpavg)\n",
        "auto_dataset_hpavg = pd.DataFrame(auto_dataset_hpavg, columns=auto_dataset_cols)\n",
        "auto_dataset_hpavg['horsepower'] = pd.to_numeric(auto_dataset_hpavg['horsepower'])\n",
        "auto_dataset_hpavg['horsepower'] = auto_dataset_hpavg['horsepower'].fillna(auto_dataset_hpavg['horsepower'].mean())\n",
        "display(auto_dataset_hpavg.iloc[32])\n",
        "print(\"Variance of horsepower:\", auto_dataset_hpavg.var()['horsepower']) # Variance of 'horsepower' with the replacement"
      ],
      "execution_count": null,
      "outputs": [
        {
          "output_type": "display_data",
          "data": {
            "text/plain": [
              "mpg                     25\n",
              "cylinders                4\n",
              "displacement            98\n",
              "horsepower         104.469\n",
              "weight                2046\n",
              "acceleration            19\n",
              "model year              71\n",
              "origin                   1\n",
              "car name        ford pinto\n",
              "Name: 32, dtype: object"
            ]
          },
          "metadata": {
            "tags": []
          }
        },
        {
          "output_type": "stream",
          "text": [
            "Variance of horsepower: 1459.1779160026776\n"
          ],
          "name": "stdout"
        }
      ]
    },
    {
      "cell_type": "code",
      "metadata": {
        "colab": {
          "base_uri": "https://localhost:8080/",
          "height": 202
        },
        "id": "trWysruNUh9B",
        "outputId": "5f30a78f-203b-4ec5-9a0a-0a3a76cdca81"
      },
      "source": [
        "# Replacing all instances of 'NaN' in 'horsepower' with the median horsepower\n",
        "\n",
        "auto_dataset_cols = ['mpg', 'cylinders', 'displacement', 'horsepower', 'weight', 'acceleration', 'model year', 'origin', 'car name']\n",
        "auto_dataset_hpmed = pd.read_csv('auto-mpg.data', delim_whitespace=True, header=None, names=auto_dataset_cols)\n",
        "imputer = SimpleImputer(missing_values='?', strategy='constant', fill_value=np.nan)\n",
        "imputer = imputer.fit(auto_dataset_hpmed)\n",
        "auto_dataset_hpmed = imputer.transform(auto_dataset_hpmed)\n",
        "auto_dataset_hpmed = pd.DataFrame(auto_dataset_hpmed, columns=auto_dataset_cols)\n",
        "auto_dataset_hpmed['horsepower'] = pd.to_numeric(auto_dataset_hpmed['horsepower'])\n",
        "auto_dataset_hpmed['horsepower'] = auto_dataset_hpmed['horsepower'].fillna(auto_dataset_hpmed['horsepower'].median())\n",
        "display(auto_dataset_hpmed.iloc[32])\n",
        "print(\"Variance of horsepower:\", auto_dataset_hpmed.var()['horsepower']) # Variance of 'horsepower' with the replacement"
      ],
      "execution_count": null,
      "outputs": [
        {
          "output_type": "display_data",
          "data": {
            "text/plain": [
              "mpg                     25\n",
              "cylinders                4\n",
              "displacement            98\n",
              "horsepower            93.5\n",
              "weight                2046\n",
              "acceleration            19\n",
              "model year              71\n",
              "origin                   1\n",
              "car name        ford pinto\n",
              "Name: 32, dtype: object"
            ]
          },
          "metadata": {
            "tags": []
          }
        },
        {
          "output_type": "stream",
          "text": [
            "Variance of horsepower: 1460.96905180816\n"
          ],
          "name": "stdout"
        }
      ]
    },
    {
      "cell_type": "code",
      "metadata": {
        "colab": {
          "base_uri": "https://localhost:8080/",
          "height": 202
        },
        "id": "U8_p76-PYPNw",
        "outputId": "7a56a49f-ce72-44d1-861c-4afcc8cbfa0a"
      },
      "source": [
        "# Replacing all instances of 'NaN' in 'horsepower' with the mode horsepower\n",
        "auto_dataset_cols = ['mpg', 'cylinders', 'displacement', 'horsepower', 'weight', 'acceleration', 'model year', 'origin', 'car name']\n",
        "auto_dataset_hpmod = pd.read_csv('auto-mpg.data', delim_whitespace=True, header=None, names=auto_dataset_cols)\n",
        "imputer = SimpleImputer(missing_values='?', strategy='constant', fill_value=np.nan)\n",
        "imputer = imputer.fit(auto_dataset_hpmod)\n",
        "auto_dataset_hpmod = imputer.transform(auto_dataset_hpmod)\n",
        "auto_dataset_hpmod = pd.DataFrame(auto_dataset_hpmod, columns=auto_dataset_cols)\n",
        "auto_dataset_hpmod['horsepower'] = pd.to_numeric(auto_dataset_hpmod['horsepower'])\n",
        "auto_dataset_hpmod['horsepower'] = auto_dataset_hpmod['horsepower'].fillna(150)\n",
        "display(auto_dataset_hpmod.iloc[32])\n",
        "print(\"Variance of horsepower:\", auto_dataset_hpmod.var()['horsepower']) # Variance of 'horsepower' with the replacement"
      ],
      "execution_count": null,
      "outputs": [
        {
          "output_type": "display_data",
          "data": {
            "text/plain": [
              "mpg                     25\n",
              "cylinders                4\n",
              "displacement            98\n",
              "horsepower             150\n",
              "weight                2046\n",
              "acceleration            19\n",
              "model year              71\n",
              "origin                   1\n",
              "car name        ford pinto\n",
              "Name: 32, dtype: object"
            ]
          },
          "metadata": {
            "tags": []
          }
        },
        {
          "output_type": "stream",
          "text": [
            "Variance of horsepower: 1490.0361252104324\n"
          ],
          "name": "stdout"
        }
      ]
    },
    {
      "cell_type": "code",
      "metadata": {
        "id": "gyGW_48rgPLt"
      },
      "source": [
        "# Problem 2 (End)"
      ],
      "execution_count": null,
      "outputs": []
    },
    {
      "cell_type": "code",
      "metadata": {
        "id": "dVRnEkPeuzkQ"
      },
      "source": [
        "# Problem 3 (Start)"
      ],
      "execution_count": null,
      "outputs": []
    },
    {
      "cell_type": "code",
      "metadata": {
        "colab": {
          "base_uri": "https://localhost:8080/"
        },
        "id": "GEjgPRyDwpMQ",
        "outputId": "44bb2b30-5760-408d-d888-620e8694693a"
      },
      "source": [
        "iris_dataset = pd.read_csv('iris.data', names=['sepal length','sepal width','petal length','petal width','species'])\n",
        "iris_dataset.keys()"
      ],
      "execution_count": null,
      "outputs": [
        {
          "output_type": "execute_result",
          "data": {
            "text/plain": [
              "Index(['sepal length', 'sepal width', 'petal length', 'petal width',\n",
              "       'species'],\n",
              "      dtype='object')"
            ]
          },
          "metadata": {
            "tags": []
          },
          "execution_count": 23
        }
      ]
    },
    {
      "cell_type": "code",
      "metadata": {
        "colab": {
          "base_uri": "https://localhost:8080/",
          "height": 195
        },
        "id": "IzUE0gmRxd4g",
        "outputId": "d456b8a8-10ac-412e-8045-41d73f7f8b97"
      },
      "source": [
        "iris_dataset.head()"
      ],
      "execution_count": null,
      "outputs": [
        {
          "output_type": "execute_result",
          "data": {
            "text/html": [
              "<div>\n",
              "<style scoped>\n",
              "    .dataframe tbody tr th:only-of-type {\n",
              "        vertical-align: middle;\n",
              "    }\n",
              "\n",
              "    .dataframe tbody tr th {\n",
              "        vertical-align: top;\n",
              "    }\n",
              "\n",
              "    .dataframe thead th {\n",
              "        text-align: right;\n",
              "    }\n",
              "</style>\n",
              "<table border=\"1\" class=\"dataframe\">\n",
              "  <thead>\n",
              "    <tr style=\"text-align: right;\">\n",
              "      <th></th>\n",
              "      <th>sepal length</th>\n",
              "      <th>sepal width</th>\n",
              "      <th>petal length</th>\n",
              "      <th>petal width</th>\n",
              "      <th>species</th>\n",
              "    </tr>\n",
              "  </thead>\n",
              "  <tbody>\n",
              "    <tr>\n",
              "      <th>0</th>\n",
              "      <td>5.1</td>\n",
              "      <td>3.5</td>\n",
              "      <td>1.4</td>\n",
              "      <td>0.2</td>\n",
              "      <td>Iris-setosa</td>\n",
              "    </tr>\n",
              "    <tr>\n",
              "      <th>1</th>\n",
              "      <td>4.9</td>\n",
              "      <td>3.0</td>\n",
              "      <td>1.4</td>\n",
              "      <td>0.2</td>\n",
              "      <td>Iris-setosa</td>\n",
              "    </tr>\n",
              "    <tr>\n",
              "      <th>2</th>\n",
              "      <td>4.7</td>\n",
              "      <td>3.2</td>\n",
              "      <td>1.3</td>\n",
              "      <td>0.2</td>\n",
              "      <td>Iris-setosa</td>\n",
              "    </tr>\n",
              "    <tr>\n",
              "      <th>3</th>\n",
              "      <td>4.6</td>\n",
              "      <td>3.1</td>\n",
              "      <td>1.5</td>\n",
              "      <td>0.2</td>\n",
              "      <td>Iris-setosa</td>\n",
              "    </tr>\n",
              "    <tr>\n",
              "      <th>4</th>\n",
              "      <td>5.0</td>\n",
              "      <td>3.6</td>\n",
              "      <td>1.4</td>\n",
              "      <td>0.2</td>\n",
              "      <td>Iris-setosa</td>\n",
              "    </tr>\n",
              "  </tbody>\n",
              "</table>\n",
              "</div>"
            ],
            "text/plain": [
              "   sepal length  sepal width  petal length  petal width      species\n",
              "0           5.1          3.5           1.4          0.2  Iris-setosa\n",
              "1           4.9          3.0           1.4          0.2  Iris-setosa\n",
              "2           4.7          3.2           1.3          0.2  Iris-setosa\n",
              "3           4.6          3.1           1.5          0.2  Iris-setosa\n",
              "4           5.0          3.6           1.4          0.2  Iris-setosa"
            ]
          },
          "metadata": {
            "tags": []
          },
          "execution_count": 24
        }
      ]
    },
    {
      "cell_type": "code",
      "metadata": {
        "colab": {
          "base_uri": "https://localhost:8080/",
          "height": 284
        },
        "id": "CbgX80oBxpWY",
        "outputId": "8e65e93d-d82a-4155-f4ac-60d0810ef213"
      },
      "source": [
        "iris_dataset.describe()"
      ],
      "execution_count": null,
      "outputs": [
        {
          "output_type": "execute_result",
          "data": {
            "text/html": [
              "<div>\n",
              "<style scoped>\n",
              "    .dataframe tbody tr th:only-of-type {\n",
              "        vertical-align: middle;\n",
              "    }\n",
              "\n",
              "    .dataframe tbody tr th {\n",
              "        vertical-align: top;\n",
              "    }\n",
              "\n",
              "    .dataframe thead th {\n",
              "        text-align: right;\n",
              "    }\n",
              "</style>\n",
              "<table border=\"1\" class=\"dataframe\">\n",
              "  <thead>\n",
              "    <tr style=\"text-align: right;\">\n",
              "      <th></th>\n",
              "      <th>sepal length</th>\n",
              "      <th>sepal width</th>\n",
              "      <th>petal length</th>\n",
              "      <th>petal width</th>\n",
              "    </tr>\n",
              "  </thead>\n",
              "  <tbody>\n",
              "    <tr>\n",
              "      <th>count</th>\n",
              "      <td>150.000000</td>\n",
              "      <td>150.000000</td>\n",
              "      <td>150.000000</td>\n",
              "      <td>150.000000</td>\n",
              "    </tr>\n",
              "    <tr>\n",
              "      <th>mean</th>\n",
              "      <td>5.843333</td>\n",
              "      <td>3.054000</td>\n",
              "      <td>3.758667</td>\n",
              "      <td>1.198667</td>\n",
              "    </tr>\n",
              "    <tr>\n",
              "      <th>std</th>\n",
              "      <td>0.828066</td>\n",
              "      <td>0.433594</td>\n",
              "      <td>1.764420</td>\n",
              "      <td>0.763161</td>\n",
              "    </tr>\n",
              "    <tr>\n",
              "      <th>min</th>\n",
              "      <td>4.300000</td>\n",
              "      <td>2.000000</td>\n",
              "      <td>1.000000</td>\n",
              "      <td>0.100000</td>\n",
              "    </tr>\n",
              "    <tr>\n",
              "      <th>25%</th>\n",
              "      <td>5.100000</td>\n",
              "      <td>2.800000</td>\n",
              "      <td>1.600000</td>\n",
              "      <td>0.300000</td>\n",
              "    </tr>\n",
              "    <tr>\n",
              "      <th>50%</th>\n",
              "      <td>5.800000</td>\n",
              "      <td>3.000000</td>\n",
              "      <td>4.350000</td>\n",
              "      <td>1.300000</td>\n",
              "    </tr>\n",
              "    <tr>\n",
              "      <th>75%</th>\n",
              "      <td>6.400000</td>\n",
              "      <td>3.300000</td>\n",
              "      <td>5.100000</td>\n",
              "      <td>1.800000</td>\n",
              "    </tr>\n",
              "    <tr>\n",
              "      <th>max</th>\n",
              "      <td>7.900000</td>\n",
              "      <td>4.400000</td>\n",
              "      <td>6.900000</td>\n",
              "      <td>2.500000</td>\n",
              "    </tr>\n",
              "  </tbody>\n",
              "</table>\n",
              "</div>"
            ],
            "text/plain": [
              "       sepal length  sepal width  petal length  petal width\n",
              "count    150.000000   150.000000    150.000000   150.000000\n",
              "mean       5.843333     3.054000      3.758667     1.198667\n",
              "std        0.828066     0.433594      1.764420     0.763161\n",
              "min        4.300000     2.000000      1.000000     0.100000\n",
              "25%        5.100000     2.800000      1.600000     0.300000\n",
              "50%        5.800000     3.000000      4.350000     1.300000\n",
              "75%        6.400000     3.300000      5.100000     1.800000\n",
              "max        7.900000     4.400000      6.900000     2.500000"
            ]
          },
          "metadata": {
            "tags": []
          },
          "execution_count": 25
        }
      ]
    },
    {
      "cell_type": "code",
      "metadata": {
        "colab": {
          "base_uri": "https://localhost:8080/",
          "height": 195
        },
        "id": "iD7hqHUZxrh1",
        "outputId": "4d35bd93-402c-4b9e-f249-fe10223d291d"
      },
      "source": [
        "# Before performing PCA we must standardize the data w/in iris_dataset\n",
        "\n",
        "from sklearn.preprocessing import StandardScaler\n",
        "iris_features = ['sepal length','sepal width','petal length','petal width']\n",
        "features = iris_dataset.loc[:, iris_features].values\n",
        "sep_species = iris_dataset.loc[:,['species']].values\n",
        "features = StandardScaler().fit_transform(features)\n",
        "iris_standardize = pd.DataFrame(data=features, columns=iris_features) # iris_standardize is an updated iris_dataset with its data standardized\n",
        "iris_standardize.head()"
      ],
      "execution_count": null,
      "outputs": [
        {
          "output_type": "execute_result",
          "data": {
            "text/html": [
              "<div>\n",
              "<style scoped>\n",
              "    .dataframe tbody tr th:only-of-type {\n",
              "        vertical-align: middle;\n",
              "    }\n",
              "\n",
              "    .dataframe tbody tr th {\n",
              "        vertical-align: top;\n",
              "    }\n",
              "\n",
              "    .dataframe thead th {\n",
              "        text-align: right;\n",
              "    }\n",
              "</style>\n",
              "<table border=\"1\" class=\"dataframe\">\n",
              "  <thead>\n",
              "    <tr style=\"text-align: right;\">\n",
              "      <th></th>\n",
              "      <th>sepal length</th>\n",
              "      <th>sepal width</th>\n",
              "      <th>petal length</th>\n",
              "      <th>petal width</th>\n",
              "    </tr>\n",
              "  </thead>\n",
              "  <tbody>\n",
              "    <tr>\n",
              "      <th>0</th>\n",
              "      <td>-0.900681</td>\n",
              "      <td>1.032057</td>\n",
              "      <td>-1.341272</td>\n",
              "      <td>-1.312977</td>\n",
              "    </tr>\n",
              "    <tr>\n",
              "      <th>1</th>\n",
              "      <td>-1.143017</td>\n",
              "      <td>-0.124958</td>\n",
              "      <td>-1.341272</td>\n",
              "      <td>-1.312977</td>\n",
              "    </tr>\n",
              "    <tr>\n",
              "      <th>2</th>\n",
              "      <td>-1.385353</td>\n",
              "      <td>0.337848</td>\n",
              "      <td>-1.398138</td>\n",
              "      <td>-1.312977</td>\n",
              "    </tr>\n",
              "    <tr>\n",
              "      <th>3</th>\n",
              "      <td>-1.506521</td>\n",
              "      <td>0.106445</td>\n",
              "      <td>-1.284407</td>\n",
              "      <td>-1.312977</td>\n",
              "    </tr>\n",
              "    <tr>\n",
              "      <th>4</th>\n",
              "      <td>-1.021849</td>\n",
              "      <td>1.263460</td>\n",
              "      <td>-1.341272</td>\n",
              "      <td>-1.312977</td>\n",
              "    </tr>\n",
              "  </tbody>\n",
              "</table>\n",
              "</div>"
            ],
            "text/plain": [
              "   sepal length  sepal width  petal length  petal width\n",
              "0     -0.900681     1.032057     -1.341272    -1.312977\n",
              "1     -1.143017    -0.124958     -1.341272    -1.312977\n",
              "2     -1.385353     0.337848     -1.398138    -1.312977\n",
              "3     -1.506521     0.106445     -1.284407    -1.312977\n",
              "4     -1.021849     1.263460     -1.341272    -1.312977"
            ]
          },
          "metadata": {
            "tags": []
          },
          "execution_count": 45
        }
      ]
    },
    {
      "cell_type": "code",
      "metadata": {
        "colab": {
          "base_uri": "https://localhost:8080/",
          "height": 195
        },
        "id": "jtzmakqD6hYu",
        "outputId": "b82071cc-0e13-4a53-d9d1-93d86150eb05"
      },
      "source": [
        "# Performing PCA \n",
        "\n",
        "from sklearn.decomposition import PCA\n",
        "pca = PCA(n_components=4)\n",
        "principal_components = pca.fit_transform(features)\n",
        "iris_principal = pd.DataFrame(data=principal_components, columns=['PC1', 'PC2', 'PC3', 'PC4'])\n",
        "iris_principal = pd.concat([iris_principal, iris_dataset[['species']]], axis=1) # iris_principal is a new iris dataframe w/ 4 principal components\n",
        "iris_principal.head()"
      ],
      "execution_count": null,
      "outputs": [
        {
          "output_type": "execute_result",
          "data": {
            "text/html": [
              "<div>\n",
              "<style scoped>\n",
              "    .dataframe tbody tr th:only-of-type {\n",
              "        vertical-align: middle;\n",
              "    }\n",
              "\n",
              "    .dataframe tbody tr th {\n",
              "        vertical-align: top;\n",
              "    }\n",
              "\n",
              "    .dataframe thead th {\n",
              "        text-align: right;\n",
              "    }\n",
              "</style>\n",
              "<table border=\"1\" class=\"dataframe\">\n",
              "  <thead>\n",
              "    <tr style=\"text-align: right;\">\n",
              "      <th></th>\n",
              "      <th>PC1</th>\n",
              "      <th>PC2</th>\n",
              "      <th>PC3</th>\n",
              "      <th>PC4</th>\n",
              "      <th>species</th>\n",
              "    </tr>\n",
              "  </thead>\n",
              "  <tbody>\n",
              "    <tr>\n",
              "      <th>0</th>\n",
              "      <td>-2.264542</td>\n",
              "      <td>0.505704</td>\n",
              "      <td>-0.121943</td>\n",
              "      <td>-0.023073</td>\n",
              "      <td>Iris-setosa</td>\n",
              "    </tr>\n",
              "    <tr>\n",
              "      <th>1</th>\n",
              "      <td>-2.086426</td>\n",
              "      <td>-0.655405</td>\n",
              "      <td>-0.227251</td>\n",
              "      <td>-0.103208</td>\n",
              "      <td>Iris-setosa</td>\n",
              "    </tr>\n",
              "    <tr>\n",
              "      <th>2</th>\n",
              "      <td>-2.367950</td>\n",
              "      <td>-0.318477</td>\n",
              "      <td>0.051480</td>\n",
              "      <td>-0.027825</td>\n",
              "      <td>Iris-setosa</td>\n",
              "    </tr>\n",
              "    <tr>\n",
              "      <th>3</th>\n",
              "      <td>-2.304197</td>\n",
              "      <td>-0.575368</td>\n",
              "      <td>0.098860</td>\n",
              "      <td>0.066311</td>\n",
              "      <td>Iris-setosa</td>\n",
              "    </tr>\n",
              "    <tr>\n",
              "      <th>4</th>\n",
              "      <td>-2.388777</td>\n",
              "      <td>0.674767</td>\n",
              "      <td>0.021428</td>\n",
              "      <td>0.037397</td>\n",
              "      <td>Iris-setosa</td>\n",
              "    </tr>\n",
              "  </tbody>\n",
              "</table>\n",
              "</div>"
            ],
            "text/plain": [
              "        PC1       PC2       PC3       PC4      species\n",
              "0 -2.264542  0.505704 -0.121943 -0.023073  Iris-setosa\n",
              "1 -2.086426 -0.655405 -0.227251 -0.103208  Iris-setosa\n",
              "2 -2.367950 -0.318477  0.051480 -0.027825  Iris-setosa\n",
              "3 -2.304197 -0.575368  0.098860  0.066311  Iris-setosa\n",
              "4 -2.388777  0.674767  0.021428  0.037397  Iris-setosa"
            ]
          },
          "metadata": {
            "tags": []
          },
          "execution_count": 27
        }
      ]
    },
    {
      "cell_type": "code",
      "metadata": {
        "colab": {
          "base_uri": "https://localhost:8080/",
          "height": 118
        },
        "id": "FfyYDh03FqzN",
        "outputId": "8c0cfaa4-35be-4bc8-c823-6405d995e5dd"
      },
      "source": [
        "# Computing the variance of each principal component in iris_principal & the variance sum\n",
        "\n",
        "display(iris_principal.var())\n",
        "print(\"Total variance:\", sum(iris_principal.var()))"
      ],
      "execution_count": null,
      "outputs": [
        {
          "output_type": "display_data",
          "data": {
            "text/plain": [
              "PC1    2.930354\n",
              "PC2    0.927404\n",
              "PC3    0.148342\n",
              "PC4    0.020746\n",
              "dtype: float64"
            ]
          },
          "metadata": {
            "tags": []
          }
        },
        {
          "output_type": "stream",
          "text": [
            "Total variance: 4.02684563758389\n"
          ],
          "name": "stdout"
        }
      ]
    },
    {
      "cell_type": "code",
      "metadata": {
        "colab": {
          "base_uri": "https://localhost:8080/"
        },
        "id": "G3Y0hD8lF_3A",
        "outputId": "7c517816-fae8-40a5-c4d6-b258c3b73a1e"
      },
      "source": [
        "# Computing the percentage of variance for each principal component\n",
        "iris_principal.var()/sum(iris_principal.var())"
      ],
      "execution_count": null,
      "outputs": [
        {
          "output_type": "execute_result",
          "data": {
            "text/plain": [
              "PC1    0.727705\n",
              "PC2    0.230305\n",
              "PC3    0.036838\n",
              "PC4    0.005152\n",
              "dtype: float64"
            ]
          },
          "metadata": {
            "tags": []
          },
          "execution_count": 29
        }
      ]
    },
    {
      "cell_type": "code",
      "metadata": {
        "colab": {
          "base_uri": "https://localhost:8080/",
          "height": 118
        },
        "id": "nwPwviF2ASX3",
        "outputId": "f9e9f462-6188-4980-bd3b-5d3e71c1cd8c"
      },
      "source": [
        "# Computing the variance of each feature in iris_dataset & the variance sum\n",
        "\n",
        "display(iris_dataset.var())\n",
        "print(\"Total variance:\", sum(iris_dataset.var()))"
      ],
      "execution_count": null,
      "outputs": [
        {
          "output_type": "display_data",
          "data": {
            "text/plain": [
              "sepal length    0.685694\n",
              "sepal width     0.188004\n",
              "petal length    3.113179\n",
              "petal width     0.582414\n",
              "dtype: float64"
            ]
          },
          "metadata": {
            "tags": []
          }
        },
        {
          "output_type": "stream",
          "text": [
            "Total variance: 4.5692912751677826\n"
          ],
          "name": "stdout"
        }
      ]
    },
    {
      "cell_type": "code",
      "metadata": {
        "colab": {
          "base_uri": "https://localhost:8080/"
        },
        "id": "k5hL97VKQvC3",
        "outputId": "bc401854-bbdc-4443-e4c2-4e701c30c260"
      },
      "source": [
        "# Computing the percentage of variance for each feature in iris_dataset\n",
        "iris_dataset.var()/sum(iris_dataset.var())"
      ],
      "execution_count": null,
      "outputs": [
        {
          "output_type": "execute_result",
          "data": {
            "text/plain": [
              "sepal length    0.150066\n",
              "sepal width     0.041145\n",
              "petal length    0.681327\n",
              "petal width     0.127463\n",
              "dtype: float64"
            ]
          },
          "metadata": {
            "tags": []
          },
          "execution_count": 31
        }
      ]
    },
    {
      "cell_type": "code",
      "metadata": {
        "id": "k9pM6o45NS2Y"
      },
      "source": [
        "# Problem 3 (End)"
      ],
      "execution_count": null,
      "outputs": []
    },
    {
      "cell_type": "code",
      "metadata": {
        "id": "lMLCKeTTNXs2"
      },
      "source": [
        "# Problem 4 (Start)"
      ],
      "execution_count": null,
      "outputs": []
    },
    {
      "cell_type": "code",
      "metadata": {
        "colab": {
          "base_uri": "https://localhost:8080/",
          "height": 265
        },
        "id": "-DYkZB-XMabw",
        "outputId": "c0320ba8-1ab5-4c05-f3f9-059ea83f1e09"
      },
      "source": [
        "# Scatter plot of PC1 vs sepal length (standardized)\n",
        "\n",
        "PC1_arr = iris_principal['PC1'].to_numpy()\n",
        "sepal_len_arr = iris_standardize['sepal length'].to_numpy()\n",
        "plt.scatter(sepal_len_arr, PC1_arr)\n",
        "plt.show()"
      ],
      "execution_count": null,
      "outputs": [
        {
          "output_type": "display_data",
          "data": {
            "image/png": "[encoded data removed]",
            "text/plain": [
              "<Figure size 432x288 with 1 Axes>"
            ]
          },
          "metadata": {
            "tags": [],
            "needs_background": "light"
          }
        }
      ]
    },
    {
      "cell_type": "code",
      "metadata": {
        "colab": {
          "base_uri": "https://localhost:8080/",
          "height": 265
        },
        "id": "BIoi6dwlVaQ_",
        "outputId": "d02e8eaf-14af-4d6f-edbb-d5d65b84ce81"
      },
      "source": [
        "# Scatter plot of PC1 vs sepal width (standardized)\n",
        "\n",
        "sepal_wid_arr = iris_standardize['sepal width'].to_numpy()\n",
        "plt.scatter(sepal_wid_arr, PC1_arr)\n",
        "plt.show()"
      ],
      "execution_count": null,
      "outputs": [
        {
          "output_type": "display_data",
          "data": {
            "image/png": "[encoded data removed]",
            "text/plain": [
              "<Figure size 432x288 with 1 Axes>"
            ]
          },
          "metadata": {
            "tags": [],
            "needs_background": "light"
          }
        }
      ]
    },
    {
      "cell_type": "code",
      "metadata": {
        "colab": {
          "base_uri": "https://localhost:8080/",
          "height": 265
        },
        "id": "pQ9n_ZKCWBzP",
        "outputId": "22a6de90-59a4-48bc-ef9d-a6b7de2d1310"
      },
      "source": [
        "# Scatter plot of PC1 vs petal length (standardized)\n",
        "\n",
        "petal_len_arr = iris_standardize['petal length'].to_numpy()\n",
        "plt.scatter(petal_len_arr, PC1_arr)\n",
        "plt.show()"
      ],
      "execution_count": null,
      "outputs": [
        {
          "output_type": "display_data",
          "data": {
            "image/png": "[encoded data removed]",
            "text/plain": [
              "<Figure size 432x288 with 1 Axes>"
            ]
          },
          "metadata": {
            "tags": [],
            "needs_background": "light"
          }
        }
      ]
    },
    {
      "cell_type": "code",
      "metadata": {
        "colab": {
          "base_uri": "https://localhost:8080/",
          "height": 265
        },
        "id": "Xc-i9TQuWP0m",
        "outputId": "a730756b-784c-4321-fb93-2626dccc9fc8"
      },
      "source": [
        "# Scatter plot of PC1 vs petal width (standardized)\n",
        "\n",
        "petal_wid_arr = iris_standardize['petal width'].to_numpy()\n",
        "plt.scatter(petal_wid_arr, PC1_arr)\n",
        "plt.show()"
      ],
      "execution_count": null,
      "outputs": [
        {
          "output_type": "display_data",
          "data": {
            "image/png": "[encoded data removed]",
            "text/plain": [
              "<Figure size 432x288 with 1 Axes>"
            ]
          },
          "metadata": {
            "tags": [],
            "needs_background": "light"
          }
        }
      ]
    },
    {
      "cell_type": "code",
      "metadata": {
        "colab": {
          "base_uri": "https://localhost:8080/"
        },
        "id": "TxvZ2xyBsyjh",
        "outputId": "1417e4a8-a487-4894-fad7-c5861bd25535"
      },
      "source": [
        "# Computing correlation coefficent b/w petal length and petal width\n",
        "\n",
        "from scipy.stats import pearsonr\n",
        "length_arr = iris_dataset['petal length'].to_numpy()\n",
        "width_arr = iris_dataset['petal width'].to_numpy()\n",
        "petal_corr, _ = pearsonr(length_arr, width_arr)\n",
        "print('Petal length-petal width correlation: %.3f' % petal_corr)"
      ],
      "execution_count": null,
      "outputs": [
        {
          "output_type": "stream",
          "text": [
            "Petal length-petal width correlation: 0.963\n"
          ],
          "name": "stdout"
        }
      ]
    },
    {
      "cell_type": "code",
      "metadata": {
        "colab": {
          "base_uri": "https://localhost:8080/"
        },
        "id": "GcMzIb2Ax4dw",
        "outputId": "5ef1d41d-0f60-4cbc-e915-b431b1997153"
      },
      "source": [
        "# Computing correlation coefficent b/w PC1 and petal length\n",
        "PC1_petallen_corr, _ = pearsonr(length_arr, PC1_arr)\n",
        "print('PC1-petal length correlation: %.3f' % PC1_petallen_corr)"
      ],
      "execution_count": null,
      "outputs": [
        {
          "output_type": "stream",
          "text": [
            "PC1-petal length correlation: 0.992\n"
          ],
          "name": "stdout"
        }
      ]
    },
    {
      "cell_type": "code",
      "metadata": {
        "colab": {
          "base_uri": "https://localhost:8080/"
        },
        "id": "Y8gd4WQvzeqH",
        "outputId": "57fd3c34-0379-4079-be54-069d6ed120b3"
      },
      "source": [
        "# Computing correlation coefficent b/w PC1 and petal width\n",
        "PC1_petalwid_corr, _ = pearsonr(width_arr, PC1_arr)\n",
        "print('PC1-petal width correlation: %.3f' % PC1_petalwid_corr)"
      ],
      "execution_count": null,
      "outputs": [
        {
          "output_type": "stream",
          "text": [
            "PC1-petal width correlation: 0.965\n"
          ],
          "name": "stdout"
        }
      ]
    },
    {
      "cell_type": "code",
      "metadata": {
        "id": "8YPKHvLZ3sah"
      },
      "source": [
        "# Problem 4 (End)"
      ],
      "execution_count": null,
      "outputs": []
    },
    {
      "cell_type": "code",
      "metadata": {
        "id": "I7J5vVij-1YE"
      },
      "source": [
        "# Problem 5 (Start)"
      ],
      "execution_count": null,
      "outputs": []
    },
    {
      "cell_type": "code",
      "metadata": {
        "colab": {
          "base_uri": "https://localhost:8080/"
        },
        "id": "wkQ_3pXI-_YN",
        "outputId": "361c9726-7a4c-4055-cc89-ab8b411ea10a"
      },
      "source": [
        "# Computing total variance of the iris_dataset features and 4 eigenvectors (principal components)\n",
        "\n",
        "print(\"Total variance (features):\", sum(iris_dataset.var()))\n",
        "print(\"Total variances (eigenvectors):\", sum(iris_principal.var()))"
      ],
      "execution_count": null,
      "outputs": [
        {
          "output_type": "stream",
          "text": [
            "Total variance (features): 4.5692912751677826\n",
            "Total variances (eigenvectors): 4.02684563758389\n"
          ],
          "name": "stdout"
        }
      ]
    },
    {
      "cell_type": "code",
      "metadata": {
        "id": "okgHY7frMS6g"
      },
      "source": [
        "# Problem 5 (End)"
      ],
      "execution_count": null,
      "outputs": []
    }
  ]
}